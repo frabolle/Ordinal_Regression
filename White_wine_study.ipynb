{
 "cells": [
  {
   "cell_type": "code",
   "execution_count": 1,
   "id": "460bc984",
   "metadata": {},
   "outputs": [],
   "source": [
    "import pandas as pd\n",
    "from sklearn.linear_model import LogisticRegression\n",
    "from sklearn.model_selection import train_test_split\n",
    "from sklearn.metrics import confusion_matrix\n",
    "from statsmodels.miscmodels.ordinal_model import OrderedModel\n",
    "import seaborn as sn\n",
    "import matplotlib.pyplot as plt\n",
    "from sklearn.metrics import plot_confusion_matrix\n",
    "from sklearn.metrics import mean_absolute_error"
   ]
  },
  {
   "cell_type": "code",
   "execution_count": 2,
   "id": "13518e7d",
   "metadata": {},
   "outputs": [],
   "source": [
    "df=pd.read_csv('whitewines_cleaned.csv')"
   ]
  },
  {
   "cell_type": "markdown",
   "id": "7542977c",
   "metadata": {},
   "source": [
    "First Create the two columns for the two logistic regressions"
   ]
  },
  {
   "cell_type": "code",
   "execution_count": 3,
   "id": "5bb63277",
   "metadata": {},
   "outputs": [],
   "source": [
    "df['first']=(df['merged']>0).astype(int)"
   ]
  },
  {
   "cell_type": "code",
   "execution_count": 4,
   "id": "564a85e6",
   "metadata": {},
   "outputs": [],
   "source": [
    "df['second']=(df['merged']>1).astype(int)"
   ]
  },
  {
   "cell_type": "code",
   "execution_count": 5,
   "id": "62168c9b",
   "metadata": {},
   "outputs": [
    {
     "data": {
      "text/html": [
       "<div>\n",
       "<style scoped>\n",
       "    .dataframe tbody tr th:only-of-type {\n",
       "        vertical-align: middle;\n",
       "    }\n",
       "\n",
       "    .dataframe tbody tr th {\n",
       "        vertical-align: top;\n",
       "    }\n",
       "\n",
       "    .dataframe thead th {\n",
       "        text-align: right;\n",
       "    }\n",
       "</style>\n",
       "<table border=\"1\" class=\"dataframe\">\n",
       "  <thead>\n",
       "    <tr style=\"text-align: right;\">\n",
       "      <th></th>\n",
       "      <th>Unnamed: 0</th>\n",
       "      <th>fixed acidity</th>\n",
       "      <th>volatile acidity</th>\n",
       "      <th>citric acid</th>\n",
       "      <th>residual sugar</th>\n",
       "      <th>chlorides</th>\n",
       "      <th>free sulfur dioxide</th>\n",
       "      <th>total sulfur dioxide</th>\n",
       "      <th>pH</th>\n",
       "      <th>sulphates</th>\n",
       "      <th>alcohol</th>\n",
       "      <th>quality</th>\n",
       "      <th>merged</th>\n",
       "      <th>first</th>\n",
       "      <th>second</th>\n",
       "    </tr>\n",
       "  </thead>\n",
       "  <tbody>\n",
       "    <tr>\n",
       "      <th>0</th>\n",
       "      <td>0</td>\n",
       "      <td>7.0</td>\n",
       "      <td>0.27</td>\n",
       "      <td>0.36</td>\n",
       "      <td>20.7</td>\n",
       "      <td>0.045</td>\n",
       "      <td>45.0</td>\n",
       "      <td>170.0</td>\n",
       "      <td>3.00</td>\n",
       "      <td>0.45</td>\n",
       "      <td>8.8</td>\n",
       "      <td>6</td>\n",
       "      <td>1</td>\n",
       "      <td>1</td>\n",
       "      <td>0</td>\n",
       "    </tr>\n",
       "    <tr>\n",
       "      <th>1</th>\n",
       "      <td>1</td>\n",
       "      <td>6.3</td>\n",
       "      <td>0.30</td>\n",
       "      <td>0.34</td>\n",
       "      <td>1.6</td>\n",
       "      <td>0.049</td>\n",
       "      <td>14.0</td>\n",
       "      <td>132.0</td>\n",
       "      <td>3.30</td>\n",
       "      <td>0.49</td>\n",
       "      <td>9.5</td>\n",
       "      <td>6</td>\n",
       "      <td>1</td>\n",
       "      <td>1</td>\n",
       "      <td>0</td>\n",
       "    </tr>\n",
       "    <tr>\n",
       "      <th>2</th>\n",
       "      <td>2</td>\n",
       "      <td>8.1</td>\n",
       "      <td>0.28</td>\n",
       "      <td>0.40</td>\n",
       "      <td>6.9</td>\n",
       "      <td>0.050</td>\n",
       "      <td>30.0</td>\n",
       "      <td>97.0</td>\n",
       "      <td>3.26</td>\n",
       "      <td>0.44</td>\n",
       "      <td>10.1</td>\n",
       "      <td>6</td>\n",
       "      <td>1</td>\n",
       "      <td>1</td>\n",
       "      <td>0</td>\n",
       "    </tr>\n",
       "    <tr>\n",
       "      <th>3</th>\n",
       "      <td>3</td>\n",
       "      <td>7.2</td>\n",
       "      <td>0.23</td>\n",
       "      <td>0.32</td>\n",
       "      <td>8.5</td>\n",
       "      <td>0.058</td>\n",
       "      <td>47.0</td>\n",
       "      <td>186.0</td>\n",
       "      <td>3.19</td>\n",
       "      <td>0.40</td>\n",
       "      <td>9.9</td>\n",
       "      <td>6</td>\n",
       "      <td>1</td>\n",
       "      <td>1</td>\n",
       "      <td>0</td>\n",
       "    </tr>\n",
       "    <tr>\n",
       "      <th>4</th>\n",
       "      <td>4</td>\n",
       "      <td>7.2</td>\n",
       "      <td>0.23</td>\n",
       "      <td>0.32</td>\n",
       "      <td>8.5</td>\n",
       "      <td>0.058</td>\n",
       "      <td>47.0</td>\n",
       "      <td>186.0</td>\n",
       "      <td>3.19</td>\n",
       "      <td>0.40</td>\n",
       "      <td>9.9</td>\n",
       "      <td>6</td>\n",
       "      <td>1</td>\n",
       "      <td>1</td>\n",
       "      <td>0</td>\n",
       "    </tr>\n",
       "    <tr>\n",
       "      <th>...</th>\n",
       "      <td>...</td>\n",
       "      <td>...</td>\n",
       "      <td>...</td>\n",
       "      <td>...</td>\n",
       "      <td>...</td>\n",
       "      <td>...</td>\n",
       "      <td>...</td>\n",
       "      <td>...</td>\n",
       "      <td>...</td>\n",
       "      <td>...</td>\n",
       "      <td>...</td>\n",
       "      <td>...</td>\n",
       "      <td>...</td>\n",
       "      <td>...</td>\n",
       "      <td>...</td>\n",
       "    </tr>\n",
       "    <tr>\n",
       "      <th>4887</th>\n",
       "      <td>4893</td>\n",
       "      <td>6.2</td>\n",
       "      <td>0.21</td>\n",
       "      <td>0.29</td>\n",
       "      <td>1.6</td>\n",
       "      <td>0.039</td>\n",
       "      <td>24.0</td>\n",
       "      <td>92.0</td>\n",
       "      <td>3.27</td>\n",
       "      <td>0.50</td>\n",
       "      <td>11.2</td>\n",
       "      <td>6</td>\n",
       "      <td>1</td>\n",
       "      <td>1</td>\n",
       "      <td>0</td>\n",
       "    </tr>\n",
       "    <tr>\n",
       "      <th>4888</th>\n",
       "      <td>4894</td>\n",
       "      <td>6.6</td>\n",
       "      <td>0.32</td>\n",
       "      <td>0.36</td>\n",
       "      <td>8.0</td>\n",
       "      <td>0.047</td>\n",
       "      <td>57.0</td>\n",
       "      <td>168.0</td>\n",
       "      <td>3.15</td>\n",
       "      <td>0.46</td>\n",
       "      <td>9.6</td>\n",
       "      <td>5</td>\n",
       "      <td>0</td>\n",
       "      <td>0</td>\n",
       "      <td>0</td>\n",
       "    </tr>\n",
       "    <tr>\n",
       "      <th>4889</th>\n",
       "      <td>4895</td>\n",
       "      <td>6.5</td>\n",
       "      <td>0.24</td>\n",
       "      <td>0.19</td>\n",
       "      <td>1.2</td>\n",
       "      <td>0.041</td>\n",
       "      <td>30.0</td>\n",
       "      <td>111.0</td>\n",
       "      <td>2.99</td>\n",
       "      <td>0.46</td>\n",
       "      <td>9.4</td>\n",
       "      <td>6</td>\n",
       "      <td>1</td>\n",
       "      <td>1</td>\n",
       "      <td>0</td>\n",
       "    </tr>\n",
       "    <tr>\n",
       "      <th>4890</th>\n",
       "      <td>4896</td>\n",
       "      <td>5.5</td>\n",
       "      <td>0.29</td>\n",
       "      <td>0.30</td>\n",
       "      <td>1.1</td>\n",
       "      <td>0.022</td>\n",
       "      <td>20.0</td>\n",
       "      <td>110.0</td>\n",
       "      <td>3.34</td>\n",
       "      <td>0.38</td>\n",
       "      <td>12.8</td>\n",
       "      <td>7</td>\n",
       "      <td>2</td>\n",
       "      <td>1</td>\n",
       "      <td>1</td>\n",
       "    </tr>\n",
       "    <tr>\n",
       "      <th>4891</th>\n",
       "      <td>4897</td>\n",
       "      <td>6.0</td>\n",
       "      <td>0.21</td>\n",
       "      <td>0.38</td>\n",
       "      <td>0.8</td>\n",
       "      <td>0.020</td>\n",
       "      <td>22.0</td>\n",
       "      <td>98.0</td>\n",
       "      <td>3.26</td>\n",
       "      <td>0.32</td>\n",
       "      <td>11.8</td>\n",
       "      <td>6</td>\n",
       "      <td>1</td>\n",
       "      <td>1</td>\n",
       "      <td>0</td>\n",
       "    </tr>\n",
       "  </tbody>\n",
       "</table>\n",
       "<p>4892 rows × 15 columns</p>\n",
       "</div>"
      ],
      "text/plain": [
       "      Unnamed: 0  fixed acidity  volatile acidity  citric acid  \\\n",
       "0              0            7.0              0.27         0.36   \n",
       "1              1            6.3              0.30         0.34   \n",
       "2              2            8.1              0.28         0.40   \n",
       "3              3            7.2              0.23         0.32   \n",
       "4              4            7.2              0.23         0.32   \n",
       "...          ...            ...               ...          ...   \n",
       "4887        4893            6.2              0.21         0.29   \n",
       "4888        4894            6.6              0.32         0.36   \n",
       "4889        4895            6.5              0.24         0.19   \n",
       "4890        4896            5.5              0.29         0.30   \n",
       "4891        4897            6.0              0.21         0.38   \n",
       "\n",
       "      residual sugar  chlorides  free sulfur dioxide  total sulfur dioxide  \\\n",
       "0               20.7      0.045                 45.0                 170.0   \n",
       "1                1.6      0.049                 14.0                 132.0   \n",
       "2                6.9      0.050                 30.0                  97.0   \n",
       "3                8.5      0.058                 47.0                 186.0   \n",
       "4                8.5      0.058                 47.0                 186.0   \n",
       "...              ...        ...                  ...                   ...   \n",
       "4887             1.6      0.039                 24.0                  92.0   \n",
       "4888             8.0      0.047                 57.0                 168.0   \n",
       "4889             1.2      0.041                 30.0                 111.0   \n",
       "4890             1.1      0.022                 20.0                 110.0   \n",
       "4891             0.8      0.020                 22.0                  98.0   \n",
       "\n",
       "        pH  sulphates  alcohol  quality  merged  first  second  \n",
       "0     3.00       0.45      8.8        6       1      1       0  \n",
       "1     3.30       0.49      9.5        6       1      1       0  \n",
       "2     3.26       0.44     10.1        6       1      1       0  \n",
       "3     3.19       0.40      9.9        6       1      1       0  \n",
       "4     3.19       0.40      9.9        6       1      1       0  \n",
       "...    ...        ...      ...      ...     ...    ...     ...  \n",
       "4887  3.27       0.50     11.2        6       1      1       0  \n",
       "4888  3.15       0.46      9.6        5       0      0       0  \n",
       "4889  2.99       0.46      9.4        6       1      1       0  \n",
       "4890  3.34       0.38     12.8        7       2      1       1  \n",
       "4891  3.26       0.32     11.8        6       1      1       0  \n",
       "\n",
       "[4892 rows x 15 columns]"
      ]
     },
     "execution_count": 5,
     "metadata": {},
     "output_type": "execute_result"
    }
   ],
   "source": [
    "df"
   ]
  },
  {
   "cell_type": "markdown",
   "id": "0b5bc03f",
   "metadata": {},
   "source": [
    "### parallel model"
   ]
  },
  {
   "cell_type": "markdown",
   "id": "4a37abde",
   "metadata": {},
   "source": [
    "Now we can apply the two regressions"
   ]
  },
  {
   "cell_type": "markdown",
   "id": "20cf6c9b",
   "metadata": {},
   "source": [
    "First regression with a train size of 0.7"
   ]
  },
  {
   "cell_type": "code",
   "execution_count": 6,
   "id": "cf359b49",
   "metadata": {},
   "outputs": [
    {
     "data": {
      "text/plain": [
       "['fixed acidity',\n",
       " 'volatile acidity',\n",
       " 'citric acid',\n",
       " 'residual sugar',\n",
       " 'chlorides',\n",
       " 'free sulfur dioxide',\n",
       " 'total sulfur dioxide',\n",
       " 'pH',\n",
       " 'sulphates',\n",
       " 'alcohol']"
      ]
     },
     "execution_count": 6,
     "metadata": {},
     "output_type": "execute_result"
    }
   ],
   "source": [
    "col=df.columns.to_list()\n",
    "#col.remove(['Unnamed: 0','merged','first','second'])\n",
    "col_list = [e for e in col if e not in ('Unnamed: 0','merged','first','second','quality')]\n",
    "col_list"
   ]
  },
  {
   "cell_type": "code",
   "execution_count": 7,
   "id": "aabeb200",
   "metadata": {},
   "outputs": [],
   "source": [
    "X=df[col_list]\n",
    "Y=df['first']"
   ]
  },
  {
   "cell_type": "code",
   "execution_count": 8,
   "id": "688cf0b1",
   "metadata": {},
   "outputs": [],
   "source": [
    "X_train,X_test,Y_train,Y_test=train_test_split(X,Y,train_size=0.7,random_state=1)"
   ]
  },
  {
   "cell_type": "code",
   "execution_count": 9,
   "id": "0bb70426",
   "metadata": {},
   "outputs": [
    {
     "data": {
      "text/plain": [
       "LogisticRegression(max_iter=450)"
      ]
     },
     "execution_count": 9,
     "metadata": {},
     "output_type": "execute_result"
    }
   ],
   "source": [
    "log1=LogisticRegression(max_iter=450)\n",
    "log1.fit(X_train,Y_train)"
   ]
  },
  {
   "cell_type": "code",
   "execution_count": 10,
   "id": "961cddd8",
   "metadata": {},
   "outputs": [
    {
     "name": "stdout",
     "output_type": "stream",
     "text": [
      "[[236 221]\n",
      " [131 880]]\n"
     ]
    }
   ],
   "source": [
    "predictions=log1.predict(X_test)\n",
    "cm=confusion_matrix(Y_test,predictions)\n",
    "print (cm)"
   ]
  },
  {
   "cell_type": "code",
   "execution_count": 11,
   "id": "7705c16d",
   "metadata": {},
   "outputs": [
    {
     "name": "stderr",
     "output_type": "stream",
     "text": [
      "<ipython-input-11-4f0c63865acd>:2: SettingWithCopyWarning: \n",
      "A value is trying to be set on a copy of a slice from a DataFrame.\n",
      "Try using .loc[row_indexer,col_indexer] = value instead\n",
      "\n",
      "See the caveats in the documentation: https://pandas.pydata.org/pandas-docs/stable/user_guide/indexing.html#returning-a-view-versus-a-copy\n",
      "  df_pred['Y>0 true']=Y_test\n",
      "<ipython-input-11-4f0c63865acd>:3: SettingWithCopyWarning: \n",
      "A value is trying to be set on a copy of a slice from a DataFrame.\n",
      "Try using .loc[row_indexer,col_indexer] = value instead\n",
      "\n",
      "See the caveats in the documentation: https://pandas.pydata.org/pandas-docs/stable/user_guide/indexing.html#returning-a-view-versus-a-copy\n",
      "  df_pred['Y>0 predicted']=predictions\n"
     ]
    }
   ],
   "source": [
    "df_pred=X_test\n",
    "df_pred['Y>0 true']=Y_test\n",
    "df_pred['Y>0 predicted']=predictions"
   ]
  },
  {
   "cell_type": "code",
   "execution_count": 12,
   "id": "25577a07",
   "metadata": {},
   "outputs": [
    {
     "data": {
      "text/html": [
       "<div>\n",
       "<style scoped>\n",
       "    .dataframe tbody tr th:only-of-type {\n",
       "        vertical-align: middle;\n",
       "    }\n",
       "\n",
       "    .dataframe tbody tr th {\n",
       "        vertical-align: top;\n",
       "    }\n",
       "\n",
       "    .dataframe thead th {\n",
       "        text-align: right;\n",
       "    }\n",
       "</style>\n",
       "<table border=\"1\" class=\"dataframe\">\n",
       "  <thead>\n",
       "    <tr style=\"text-align: right;\">\n",
       "      <th></th>\n",
       "      <th>fixed acidity</th>\n",
       "      <th>volatile acidity</th>\n",
       "      <th>citric acid</th>\n",
       "      <th>residual sugar</th>\n",
       "      <th>chlorides</th>\n",
       "      <th>free sulfur dioxide</th>\n",
       "      <th>total sulfur dioxide</th>\n",
       "      <th>pH</th>\n",
       "      <th>sulphates</th>\n",
       "      <th>alcohol</th>\n",
       "      <th>Y&gt;0 true</th>\n",
       "      <th>Y&gt;0 predicted</th>\n",
       "    </tr>\n",
       "  </thead>\n",
       "  <tbody>\n",
       "    <tr>\n",
       "      <th>2975</th>\n",
       "      <td>6.1</td>\n",
       "      <td>0.38</td>\n",
       "      <td>0.42</td>\n",
       "      <td>5.0</td>\n",
       "      <td>0.016</td>\n",
       "      <td>31.0</td>\n",
       "      <td>113.0</td>\n",
       "      <td>3.15</td>\n",
       "      <td>0.31</td>\n",
       "      <td>12.400000</td>\n",
       "      <td>1</td>\n",
       "      <td>1</td>\n",
       "    </tr>\n",
       "    <tr>\n",
       "      <th>219</th>\n",
       "      <td>7.5</td>\n",
       "      <td>0.23</td>\n",
       "      <td>0.36</td>\n",
       "      <td>7.0</td>\n",
       "      <td>0.036</td>\n",
       "      <td>43.0</td>\n",
       "      <td>161.0</td>\n",
       "      <td>3.04</td>\n",
       "      <td>0.32</td>\n",
       "      <td>11.000000</td>\n",
       "      <td>0</td>\n",
       "      <td>1</td>\n",
       "    </tr>\n",
       "    <tr>\n",
       "      <th>2046</th>\n",
       "      <td>11.8</td>\n",
       "      <td>0.23</td>\n",
       "      <td>0.38</td>\n",
       "      <td>11.1</td>\n",
       "      <td>0.034</td>\n",
       "      <td>15.0</td>\n",
       "      <td>123.0</td>\n",
       "      <td>2.93</td>\n",
       "      <td>0.55</td>\n",
       "      <td>9.700000</td>\n",
       "      <td>0</td>\n",
       "      <td>0</td>\n",
       "    </tr>\n",
       "    <tr>\n",
       "      <th>2739</th>\n",
       "      <td>6.7</td>\n",
       "      <td>0.27</td>\n",
       "      <td>0.33</td>\n",
       "      <td>3.6</td>\n",
       "      <td>0.034</td>\n",
       "      <td>9.0</td>\n",
       "      <td>45.0</td>\n",
       "      <td>3.08</td>\n",
       "      <td>0.40</td>\n",
       "      <td>10.500000</td>\n",
       "      <td>1</td>\n",
       "      <td>1</td>\n",
       "    </tr>\n",
       "    <tr>\n",
       "      <th>3015</th>\n",
       "      <td>8.4</td>\n",
       "      <td>0.32</td>\n",
       "      <td>0.35</td>\n",
       "      <td>11.7</td>\n",
       "      <td>0.029</td>\n",
       "      <td>3.0</td>\n",
       "      <td>46.0</td>\n",
       "      <td>3.02</td>\n",
       "      <td>0.34</td>\n",
       "      <td>11.800000</td>\n",
       "      <td>1</td>\n",
       "      <td>1</td>\n",
       "    </tr>\n",
       "    <tr>\n",
       "      <th>...</th>\n",
       "      <td>...</td>\n",
       "      <td>...</td>\n",
       "      <td>...</td>\n",
       "      <td>...</td>\n",
       "      <td>...</td>\n",
       "      <td>...</td>\n",
       "      <td>...</td>\n",
       "      <td>...</td>\n",
       "      <td>...</td>\n",
       "      <td>...</td>\n",
       "      <td>...</td>\n",
       "      <td>...</td>\n",
       "    </tr>\n",
       "    <tr>\n",
       "      <th>4632</th>\n",
       "      <td>6.0</td>\n",
       "      <td>0.24</td>\n",
       "      <td>0.41</td>\n",
       "      <td>1.3</td>\n",
       "      <td>0.036</td>\n",
       "      <td>42.0</td>\n",
       "      <td>118.0</td>\n",
       "      <td>3.04</td>\n",
       "      <td>0.64</td>\n",
       "      <td>11.733333</td>\n",
       "      <td>1</td>\n",
       "      <td>1</td>\n",
       "    </tr>\n",
       "    <tr>\n",
       "      <th>3393</th>\n",
       "      <td>6.1</td>\n",
       "      <td>0.33</td>\n",
       "      <td>0.32</td>\n",
       "      <td>7.8</td>\n",
       "      <td>0.052</td>\n",
       "      <td>52.0</td>\n",
       "      <td>183.0</td>\n",
       "      <td>3.39</td>\n",
       "      <td>0.65</td>\n",
       "      <td>9.500000</td>\n",
       "      <td>0</td>\n",
       "      <td>1</td>\n",
       "    </tr>\n",
       "    <tr>\n",
       "      <th>4708</th>\n",
       "      <td>6.4</td>\n",
       "      <td>0.28</td>\n",
       "      <td>0.28</td>\n",
       "      <td>3.0</td>\n",
       "      <td>0.040</td>\n",
       "      <td>19.0</td>\n",
       "      <td>98.0</td>\n",
       "      <td>3.25</td>\n",
       "      <td>0.47</td>\n",
       "      <td>11.100000</td>\n",
       "      <td>1</td>\n",
       "      <td>1</td>\n",
       "    </tr>\n",
       "    <tr>\n",
       "      <th>3323</th>\n",
       "      <td>6.4</td>\n",
       "      <td>0.24</td>\n",
       "      <td>0.29</td>\n",
       "      <td>1.0</td>\n",
       "      <td>0.038</td>\n",
       "      <td>18.0</td>\n",
       "      <td>122.0</td>\n",
       "      <td>3.30</td>\n",
       "      <td>0.42</td>\n",
       "      <td>11.500000</td>\n",
       "      <td>0</td>\n",
       "      <td>1</td>\n",
       "    </tr>\n",
       "    <tr>\n",
       "      <th>4736</th>\n",
       "      <td>6.1</td>\n",
       "      <td>0.27</td>\n",
       "      <td>0.31</td>\n",
       "      <td>3.9</td>\n",
       "      <td>0.034</td>\n",
       "      <td>42.0</td>\n",
       "      <td>137.0</td>\n",
       "      <td>3.24</td>\n",
       "      <td>0.46</td>\n",
       "      <td>10.900000</td>\n",
       "      <td>1</td>\n",
       "      <td>1</td>\n",
       "    </tr>\n",
       "  </tbody>\n",
       "</table>\n",
       "<p>1468 rows × 12 columns</p>\n",
       "</div>"
      ],
      "text/plain": [
       "      fixed acidity  volatile acidity  citric acid  residual sugar  chlorides  \\\n",
       "2975            6.1              0.38         0.42             5.0      0.016   \n",
       "219             7.5              0.23         0.36             7.0      0.036   \n",
       "2046           11.8              0.23         0.38            11.1      0.034   \n",
       "2739            6.7              0.27         0.33             3.6      0.034   \n",
       "3015            8.4              0.32         0.35            11.7      0.029   \n",
       "...             ...               ...          ...             ...        ...   \n",
       "4632            6.0              0.24         0.41             1.3      0.036   \n",
       "3393            6.1              0.33         0.32             7.8      0.052   \n",
       "4708            6.4              0.28         0.28             3.0      0.040   \n",
       "3323            6.4              0.24         0.29             1.0      0.038   \n",
       "4736            6.1              0.27         0.31             3.9      0.034   \n",
       "\n",
       "      free sulfur dioxide  total sulfur dioxide    pH  sulphates    alcohol  \\\n",
       "2975                 31.0                 113.0  3.15       0.31  12.400000   \n",
       "219                  43.0                 161.0  3.04       0.32  11.000000   \n",
       "2046                 15.0                 123.0  2.93       0.55   9.700000   \n",
       "2739                  9.0                  45.0  3.08       0.40  10.500000   \n",
       "3015                  3.0                  46.0  3.02       0.34  11.800000   \n",
       "...                   ...                   ...   ...        ...        ...   \n",
       "4632                 42.0                 118.0  3.04       0.64  11.733333   \n",
       "3393                 52.0                 183.0  3.39       0.65   9.500000   \n",
       "4708                 19.0                  98.0  3.25       0.47  11.100000   \n",
       "3323                 18.0                 122.0  3.30       0.42  11.500000   \n",
       "4736                 42.0                 137.0  3.24       0.46  10.900000   \n",
       "\n",
       "      Y>0 true  Y>0 predicted  \n",
       "2975         1              1  \n",
       "219          0              1  \n",
       "2046         0              0  \n",
       "2739         1              1  \n",
       "3015         1              1  \n",
       "...        ...            ...  \n",
       "4632         1              1  \n",
       "3393         0              1  \n",
       "4708         1              1  \n",
       "3323         0              1  \n",
       "4736         1              1  \n",
       "\n",
       "[1468 rows x 12 columns]"
      ]
     },
     "execution_count": 12,
     "metadata": {},
     "output_type": "execute_result"
    }
   ],
   "source": [
    "df_pred"
   ]
  },
  {
   "cell_type": "markdown",
   "id": "209f7fbf",
   "metadata": {},
   "source": [
    "Now we are going to apply the second logistic regression for the variable Y>1"
   ]
  },
  {
   "cell_type": "code",
   "execution_count": 13,
   "id": "7832500f",
   "metadata": {},
   "outputs": [],
   "source": [
    "X=df[col_list]\n",
    "Y=df['second']"
   ]
  },
  {
   "cell_type": "code",
   "execution_count": 14,
   "id": "6e764f08",
   "metadata": {},
   "outputs": [],
   "source": [
    "X_train,X_test,Y_train,Y_test=train_test_split(X,Y,train_size=0.7,random_state=1)"
   ]
  },
  {
   "cell_type": "code",
   "execution_count": 15,
   "id": "47b864bf",
   "metadata": {},
   "outputs": [
    {
     "data": {
      "text/plain": [
       "LogisticRegression(max_iter=1000)"
      ]
     },
     "execution_count": 15,
     "metadata": {},
     "output_type": "execute_result"
    }
   ],
   "source": [
    "log2=LogisticRegression(max_iter=1000)\n",
    "log2.fit(X_train,Y_train)"
   ]
  },
  {
   "cell_type": "code",
   "execution_count": 16,
   "id": "70130420",
   "metadata": {},
   "outputs": [
    {
     "name": "stdout",
     "output_type": "stream",
     "text": [
      "[[1088   49]\n",
      " [ 245   86]]\n"
     ]
    }
   ],
   "source": [
    "predictions=log2.predict(X_test)\n",
    "cm=confusion_matrix(Y_test,predictions)\n",
    "print (cm)"
   ]
  },
  {
   "cell_type": "code",
   "execution_count": 17,
   "id": "5b3c4e48",
   "metadata": {},
   "outputs": [],
   "source": [
    "df_pred['Y>1 true']=Y_test\n",
    "df_pred['Y>1 predicted']=predictions"
   ]
  },
  {
   "cell_type": "markdown",
   "id": "9a498e81",
   "metadata": {},
   "source": [
    "We first check whether there are some data predicted as <1 and >1"
   ]
  },
  {
   "cell_type": "code",
   "execution_count": 18,
   "id": "040b6b5f",
   "metadata": {},
   "outputs": [
    {
     "data": {
      "text/html": [
       "<div>\n",
       "<style scoped>\n",
       "    .dataframe tbody tr th:only-of-type {\n",
       "        vertical-align: middle;\n",
       "    }\n",
       "\n",
       "    .dataframe tbody tr th {\n",
       "        vertical-align: top;\n",
       "    }\n",
       "\n",
       "    .dataframe thead th {\n",
       "        text-align: right;\n",
       "    }\n",
       "</style>\n",
       "<table border=\"1\" class=\"dataframe\">\n",
       "  <thead>\n",
       "    <tr style=\"text-align: right;\">\n",
       "      <th></th>\n",
       "      <th>fixed acidity</th>\n",
       "      <th>volatile acidity</th>\n",
       "      <th>citric acid</th>\n",
       "      <th>residual sugar</th>\n",
       "      <th>chlorides</th>\n",
       "      <th>free sulfur dioxide</th>\n",
       "      <th>total sulfur dioxide</th>\n",
       "      <th>pH</th>\n",
       "      <th>sulphates</th>\n",
       "      <th>alcohol</th>\n",
       "      <th>Y&gt;0 true</th>\n",
       "      <th>Y&gt;0 predicted</th>\n",
       "      <th>Y&gt;1 true</th>\n",
       "      <th>Y&gt;1 predicted</th>\n",
       "    </tr>\n",
       "  </thead>\n",
       "  <tbody>\n",
       "  </tbody>\n",
       "</table>\n",
       "</div>"
      ],
      "text/plain": [
       "Empty DataFrame\n",
       "Columns: [fixed acidity, volatile acidity, citric acid, residual sugar, chlorides, free sulfur dioxide, total sulfur dioxide, pH, sulphates, alcohol, Y>0 true, Y>0 predicted, Y>1 true, Y>1 predicted]\n",
       "Index: []"
      ]
     },
     "execution_count": 18,
     "metadata": {},
     "output_type": "execute_result"
    }
   ],
   "source": [
    "df_pred[(df_pred['Y>0 predicted']==0) & (df_pred['Y>1 predicted']==1)]"
   ]
  },
  {
   "cell_type": "markdown",
   "id": "f455c3f3",
   "metadata": {},
   "source": [
    "As we can notice this is not the case"
   ]
  },
  {
   "cell_type": "code",
   "execution_count": 19,
   "id": "0e8eefd4",
   "metadata": {},
   "outputs": [
    {
     "data": {
      "text/html": [
       "<div>\n",
       "<style scoped>\n",
       "    .dataframe tbody tr th:only-of-type {\n",
       "        vertical-align: middle;\n",
       "    }\n",
       "\n",
       "    .dataframe tbody tr th {\n",
       "        vertical-align: top;\n",
       "    }\n",
       "\n",
       "    .dataframe thead th {\n",
       "        text-align: right;\n",
       "    }\n",
       "</style>\n",
       "<table border=\"1\" class=\"dataframe\">\n",
       "  <thead>\n",
       "    <tr style=\"text-align: right;\">\n",
       "      <th></th>\n",
       "      <th>fixed acidity</th>\n",
       "      <th>volatile acidity</th>\n",
       "      <th>citric acid</th>\n",
       "      <th>residual sugar</th>\n",
       "      <th>chlorides</th>\n",
       "      <th>free sulfur dioxide</th>\n",
       "      <th>total sulfur dioxide</th>\n",
       "      <th>pH</th>\n",
       "      <th>sulphates</th>\n",
       "      <th>alcohol</th>\n",
       "      <th>Y&gt;0 true</th>\n",
       "      <th>Y&gt;0 predicted</th>\n",
       "      <th>Y&gt;1 true</th>\n",
       "      <th>Y&gt;1 predicted</th>\n",
       "      <th>final_predictions</th>\n",
       "    </tr>\n",
       "  </thead>\n",
       "  <tbody>\n",
       "    <tr>\n",
       "      <th>2975</th>\n",
       "      <td>6.1</td>\n",
       "      <td>0.38</td>\n",
       "      <td>0.42</td>\n",
       "      <td>5.0</td>\n",
       "      <td>0.016</td>\n",
       "      <td>31.0</td>\n",
       "      <td>113.0</td>\n",
       "      <td>3.15</td>\n",
       "      <td>0.31</td>\n",
       "      <td>12.400000</td>\n",
       "      <td>1</td>\n",
       "      <td>1</td>\n",
       "      <td>1</td>\n",
       "      <td>0</td>\n",
       "      <td>1</td>\n",
       "    </tr>\n",
       "    <tr>\n",
       "      <th>219</th>\n",
       "      <td>7.5</td>\n",
       "      <td>0.23</td>\n",
       "      <td>0.36</td>\n",
       "      <td>7.0</td>\n",
       "      <td>0.036</td>\n",
       "      <td>43.0</td>\n",
       "      <td>161.0</td>\n",
       "      <td>3.04</td>\n",
       "      <td>0.32</td>\n",
       "      <td>11.000000</td>\n",
       "      <td>0</td>\n",
       "      <td>1</td>\n",
       "      <td>0</td>\n",
       "      <td>0</td>\n",
       "      <td>1</td>\n",
       "    </tr>\n",
       "    <tr>\n",
       "      <th>2046</th>\n",
       "      <td>11.8</td>\n",
       "      <td>0.23</td>\n",
       "      <td>0.38</td>\n",
       "      <td>11.1</td>\n",
       "      <td>0.034</td>\n",
       "      <td>15.0</td>\n",
       "      <td>123.0</td>\n",
       "      <td>2.93</td>\n",
       "      <td>0.55</td>\n",
       "      <td>9.700000</td>\n",
       "      <td>0</td>\n",
       "      <td>0</td>\n",
       "      <td>0</td>\n",
       "      <td>0</td>\n",
       "      <td>0</td>\n",
       "    </tr>\n",
       "    <tr>\n",
       "      <th>2739</th>\n",
       "      <td>6.7</td>\n",
       "      <td>0.27</td>\n",
       "      <td>0.33</td>\n",
       "      <td>3.6</td>\n",
       "      <td>0.034</td>\n",
       "      <td>9.0</td>\n",
       "      <td>45.0</td>\n",
       "      <td>3.08</td>\n",
       "      <td>0.40</td>\n",
       "      <td>10.500000</td>\n",
       "      <td>1</td>\n",
       "      <td>1</td>\n",
       "      <td>0</td>\n",
       "      <td>0</td>\n",
       "      <td>1</td>\n",
       "    </tr>\n",
       "    <tr>\n",
       "      <th>3015</th>\n",
       "      <td>8.4</td>\n",
       "      <td>0.32</td>\n",
       "      <td>0.35</td>\n",
       "      <td>11.7</td>\n",
       "      <td>0.029</td>\n",
       "      <td>3.0</td>\n",
       "      <td>46.0</td>\n",
       "      <td>3.02</td>\n",
       "      <td>0.34</td>\n",
       "      <td>11.800000</td>\n",
       "      <td>1</td>\n",
       "      <td>1</td>\n",
       "      <td>0</td>\n",
       "      <td>0</td>\n",
       "      <td>1</td>\n",
       "    </tr>\n",
       "    <tr>\n",
       "      <th>...</th>\n",
       "      <td>...</td>\n",
       "      <td>...</td>\n",
       "      <td>...</td>\n",
       "      <td>...</td>\n",
       "      <td>...</td>\n",
       "      <td>...</td>\n",
       "      <td>...</td>\n",
       "      <td>...</td>\n",
       "      <td>...</td>\n",
       "      <td>...</td>\n",
       "      <td>...</td>\n",
       "      <td>...</td>\n",
       "      <td>...</td>\n",
       "      <td>...</td>\n",
       "      <td>...</td>\n",
       "    </tr>\n",
       "    <tr>\n",
       "      <th>4632</th>\n",
       "      <td>6.0</td>\n",
       "      <td>0.24</td>\n",
       "      <td>0.41</td>\n",
       "      <td>1.3</td>\n",
       "      <td>0.036</td>\n",
       "      <td>42.0</td>\n",
       "      <td>118.0</td>\n",
       "      <td>3.04</td>\n",
       "      <td>0.64</td>\n",
       "      <td>11.733333</td>\n",
       "      <td>1</td>\n",
       "      <td>1</td>\n",
       "      <td>0</td>\n",
       "      <td>0</td>\n",
       "      <td>1</td>\n",
       "    </tr>\n",
       "    <tr>\n",
       "      <th>3393</th>\n",
       "      <td>6.1</td>\n",
       "      <td>0.33</td>\n",
       "      <td>0.32</td>\n",
       "      <td>7.8</td>\n",
       "      <td>0.052</td>\n",
       "      <td>52.0</td>\n",
       "      <td>183.0</td>\n",
       "      <td>3.39</td>\n",
       "      <td>0.65</td>\n",
       "      <td>9.500000</td>\n",
       "      <td>0</td>\n",
       "      <td>1</td>\n",
       "      <td>0</td>\n",
       "      <td>0</td>\n",
       "      <td>1</td>\n",
       "    </tr>\n",
       "    <tr>\n",
       "      <th>4708</th>\n",
       "      <td>6.4</td>\n",
       "      <td>0.28</td>\n",
       "      <td>0.28</td>\n",
       "      <td>3.0</td>\n",
       "      <td>0.040</td>\n",
       "      <td>19.0</td>\n",
       "      <td>98.0</td>\n",
       "      <td>3.25</td>\n",
       "      <td>0.47</td>\n",
       "      <td>11.100000</td>\n",
       "      <td>1</td>\n",
       "      <td>1</td>\n",
       "      <td>0</td>\n",
       "      <td>0</td>\n",
       "      <td>1</td>\n",
       "    </tr>\n",
       "    <tr>\n",
       "      <th>3323</th>\n",
       "      <td>6.4</td>\n",
       "      <td>0.24</td>\n",
       "      <td>0.29</td>\n",
       "      <td>1.0</td>\n",
       "      <td>0.038</td>\n",
       "      <td>18.0</td>\n",
       "      <td>122.0</td>\n",
       "      <td>3.30</td>\n",
       "      <td>0.42</td>\n",
       "      <td>11.500000</td>\n",
       "      <td>0</td>\n",
       "      <td>1</td>\n",
       "      <td>0</td>\n",
       "      <td>0</td>\n",
       "      <td>1</td>\n",
       "    </tr>\n",
       "    <tr>\n",
       "      <th>4736</th>\n",
       "      <td>6.1</td>\n",
       "      <td>0.27</td>\n",
       "      <td>0.31</td>\n",
       "      <td>3.9</td>\n",
       "      <td>0.034</td>\n",
       "      <td>42.0</td>\n",
       "      <td>137.0</td>\n",
       "      <td>3.24</td>\n",
       "      <td>0.46</td>\n",
       "      <td>10.900000</td>\n",
       "      <td>1</td>\n",
       "      <td>1</td>\n",
       "      <td>0</td>\n",
       "      <td>0</td>\n",
       "      <td>1</td>\n",
       "    </tr>\n",
       "  </tbody>\n",
       "</table>\n",
       "<p>1468 rows × 15 columns</p>\n",
       "</div>"
      ],
      "text/plain": [
       "      fixed acidity  volatile acidity  citric acid  residual sugar  chlorides  \\\n",
       "2975            6.1              0.38         0.42             5.0      0.016   \n",
       "219             7.5              0.23         0.36             7.0      0.036   \n",
       "2046           11.8              0.23         0.38            11.1      0.034   \n",
       "2739            6.7              0.27         0.33             3.6      0.034   \n",
       "3015            8.4              0.32         0.35            11.7      0.029   \n",
       "...             ...               ...          ...             ...        ...   \n",
       "4632            6.0              0.24         0.41             1.3      0.036   \n",
       "3393            6.1              0.33         0.32             7.8      0.052   \n",
       "4708            6.4              0.28         0.28             3.0      0.040   \n",
       "3323            6.4              0.24         0.29             1.0      0.038   \n",
       "4736            6.1              0.27         0.31             3.9      0.034   \n",
       "\n",
       "      free sulfur dioxide  total sulfur dioxide    pH  sulphates    alcohol  \\\n",
       "2975                 31.0                 113.0  3.15       0.31  12.400000   \n",
       "219                  43.0                 161.0  3.04       0.32  11.000000   \n",
       "2046                 15.0                 123.0  2.93       0.55   9.700000   \n",
       "2739                  9.0                  45.0  3.08       0.40  10.500000   \n",
       "3015                  3.0                  46.0  3.02       0.34  11.800000   \n",
       "...                   ...                   ...   ...        ...        ...   \n",
       "4632                 42.0                 118.0  3.04       0.64  11.733333   \n",
       "3393                 52.0                 183.0  3.39       0.65   9.500000   \n",
       "4708                 19.0                  98.0  3.25       0.47  11.100000   \n",
       "3323                 18.0                 122.0  3.30       0.42  11.500000   \n",
       "4736                 42.0                 137.0  3.24       0.46  10.900000   \n",
       "\n",
       "      Y>0 true  Y>0 predicted  Y>1 true  Y>1 predicted  final_predictions  \n",
       "2975         1              1         1              0                  1  \n",
       "219          0              1         0              0                  1  \n",
       "2046         0              0         0              0                  0  \n",
       "2739         1              1         0              0                  1  \n",
       "3015         1              1         0              0                  1  \n",
       "...        ...            ...       ...            ...                ...  \n",
       "4632         1              1         0              0                  1  \n",
       "3393         0              1         0              0                  1  \n",
       "4708         1              1         0              0                  1  \n",
       "3323         0              1         0              0                  1  \n",
       "4736         1              1         0              0                  1  \n",
       "\n",
       "[1468 rows x 15 columns]"
      ]
     },
     "execution_count": 19,
     "metadata": {},
     "output_type": "execute_result"
    }
   ],
   "source": [
    "df_pred['final_predictions']=(df_pred['Y>0 predicted']==1).astype(int)+(df_pred['Y>1 predicted']==1).astype(int)\n",
    "df_pred"
   ]
  },
  {
   "cell_type": "code",
   "execution_count": 20,
   "id": "50795c7f",
   "metadata": {},
   "outputs": [],
   "source": [
    "true_val=df['merged']"
   ]
  },
  {
   "cell_type": "code",
   "execution_count": 21,
   "id": "a5c8cccb",
   "metadata": {},
   "outputs": [],
   "source": [
    "df_pred=pd.merge(df_pred,true_val,left_index=True, right_index=True)"
   ]
  },
  {
   "cell_type": "code",
   "execution_count": 22,
   "id": "09e4ae07",
   "metadata": {},
   "outputs": [
    {
     "name": "stdout",
     "output_type": "stream",
     "text": [
      "[[236 218   3]\n",
      " [117 517  46]\n",
      " [ 14 231  86]]\n"
     ]
    }
   ],
   "source": [
    "cm=confusion_matrix(df_pred['merged'],df_pred['final_predictions'])\n",
    "print (cm)"
   ]
  },
  {
   "cell_type": "markdown",
   "id": "79a2b633",
   "metadata": {},
   "source": [
    "### Let's try with the parallel model"
   ]
  },
  {
   "cell_type": "code",
   "execution_count": 23,
   "id": "8724a5b7",
   "metadata": {},
   "outputs": [],
   "source": [
    "Y=df['merged']"
   ]
  },
  {
   "cell_type": "code",
   "execution_count": 24,
   "id": "7153aa7b",
   "metadata": {},
   "outputs": [],
   "source": [
    "X_train, X_test, Y_train, Y_test = train_test_split(X, Y, train_size=0.70, random_state=1)\n",
    "mod_log = OrderedModel(Y_train,X_train,distr='logit')"
   ]
  },
  {
   "cell_type": "code",
   "execution_count": 25,
   "id": "add08535",
   "metadata": {},
   "outputs": [
    {
     "name": "stdout",
     "output_type": "stream",
     "text": [
      "Warning: Maximum number of iterations has been exceeded.\n"
     ]
    },
    {
     "name": "stderr",
     "output_type": "stream",
     "text": [
      "/Applications/anaconda/anaconda3/lib/python3.8/site-packages/statsmodels/base/model.py:566: ConvergenceWarning: Maximum Likelihood optimization failed to converge. Check mle_retvals\n",
      "  warnings.warn(\"Maximum Likelihood optimization failed to \"\n"
     ]
    },
    {
     "data": {
      "text/html": [
       "<table class=\"simpletable\">\n",
       "<caption>OrderedModel Results</caption>\n",
       "<tr>\n",
       "  <th>Dep. Variable:</th>          <td>merged</td>       <th>  Log-Likelihood:    </th> <td> -3196.3</td>\n",
       "</tr>\n",
       "<tr>\n",
       "  <th>Model:</th>               <td>OrderedModel</td>    <th>  AIC:               </th> <td>   6417.</td>\n",
       "</tr>\n",
       "<tr>\n",
       "  <th>Method:</th>           <td>Maximum Likelihood</td> <th>  BIC:               </th> <td>   6490.</td>\n",
       "</tr>\n",
       "<tr>\n",
       "  <th>Date:</th>              <td>Fri, 14 Jan 2022</td>  <th>                     </th>     <td> </td>   \n",
       "</tr>\n",
       "<tr>\n",
       "  <th>Time:</th>                  <td>10:23:12</td>      <th>                     </th>     <td> </td>   \n",
       "</tr>\n",
       "<tr>\n",
       "  <th>No. Observations:</th>       <td>  3424</td>       <th>                     </th>     <td> </td>   \n",
       "</tr>\n",
       "<tr>\n",
       "  <th>Df Residuals:</th>           <td>  3412</td>       <th>                     </th>     <td> </td>   \n",
       "</tr>\n",
       "<tr>\n",
       "  <th>Df Model:</th>               <td>    12</td>       <th>                     </th>     <td> </td>   \n",
       "</tr>\n",
       "</table>\n",
       "<table class=\"simpletable\">\n",
       "<tr>\n",
       "            <td></td>              <th>coef</th>     <th>std err</th>      <th>z</th>      <th>P>|z|</th>  <th>[0.025</th>    <th>0.975]</th>  \n",
       "</tr>\n",
       "<tr>\n",
       "  <th>fixed acidity</th>        <td>   -0.3465</td> <td>    0.048</td> <td>   -7.282</td> <td> 0.000</td> <td>   -0.440</td> <td>   -0.253</td>\n",
       "</tr>\n",
       "<tr>\n",
       "  <th>volatile acidity</th>     <td>   -0.0762</td> <td>    0.361</td> <td>   -0.211</td> <td> 0.833</td> <td>   -0.784</td> <td>    0.631</td>\n",
       "</tr>\n",
       "<tr>\n",
       "  <th>citric acid</th>          <td>    0.1166</td> <td>    0.303</td> <td>    0.385</td> <td> 0.700</td> <td>   -0.477</td> <td>    0.710</td>\n",
       "</tr>\n",
       "<tr>\n",
       "  <th>residual sugar</th>       <td>    0.0343</td> <td>    0.008</td> <td>    4.206</td> <td> 0.000</td> <td>    0.018</td> <td>    0.050</td>\n",
       "</tr>\n",
       "<tr>\n",
       "  <th>chlorides</th>            <td>    0.1269</td> <td>    1.756</td> <td>    0.072</td> <td> 0.942</td> <td>   -3.315</td> <td>    3.569</td>\n",
       "</tr>\n",
       "<tr>\n",
       "  <th>free sulfur dioxide</th>  <td>    0.0190</td> <td>    0.003</td> <td>    7.146</td> <td> 0.000</td> <td>    0.014</td> <td>    0.024</td>\n",
       "</tr>\n",
       "<tr>\n",
       "  <th>total sulfur dioxide</th> <td>   -0.0049</td> <td>    0.001</td> <td>   -4.249</td> <td> 0.000</td> <td>   -0.007</td> <td>   -0.003</td>\n",
       "</tr>\n",
       "<tr>\n",
       "  <th>pH</th>                   <td>   -0.5188</td> <td>    0.257</td> <td>   -2.020</td> <td> 0.043</td> <td>   -1.022</td> <td>   -0.015</td>\n",
       "</tr>\n",
       "<tr>\n",
       "  <th>sulphates</th>            <td>    0.0724</td> <td>    0.306</td> <td>    0.237</td> <td> 0.813</td> <td>   -0.527</td> <td>    0.672</td>\n",
       "</tr>\n",
       "<tr>\n",
       "  <th>alcohol</th>              <td>    0.8078</td> <td>    0.038</td> <td>   21.226</td> <td> 0.000</td> <td>    0.733</td> <td>    0.882</td>\n",
       "</tr>\n",
       "<tr>\n",
       "  <th>0/1</th>                  <td>    3.9193</td> <td>    1.093</td> <td>    3.584</td> <td> 0.000</td> <td>    1.776</td> <td>    6.062</td>\n",
       "</tr>\n",
       "<tr>\n",
       "  <th>1/2</th>                  <td>    0.8776</td> <td>    0.024</td> <td>   37.136</td> <td> 0.000</td> <td>    0.831</td> <td>    0.924</td>\n",
       "</tr>\n",
       "</table>"
      ],
      "text/plain": [
       "<class 'statsmodels.iolib.summary.Summary'>\n",
       "\"\"\"\n",
       "                             OrderedModel Results                             \n",
       "==============================================================================\n",
       "Dep. Variable:                 merged   Log-Likelihood:                -3196.3\n",
       "Model:                   OrderedModel   AIC:                             6417.\n",
       "Method:            Maximum Likelihood   BIC:                             6490.\n",
       "Date:                Fri, 14 Jan 2022                                         \n",
       "Time:                        10:23:12                                         \n",
       "No. Observations:                3424                                         \n",
       "Df Residuals:                    3412                                         \n",
       "Df Model:                          12                                         \n",
       "========================================================================================\n",
       "                           coef    std err          z      P>|z|      [0.025      0.975]\n",
       "----------------------------------------------------------------------------------------\n",
       "fixed acidity           -0.3465      0.048     -7.282      0.000      -0.440      -0.253\n",
       "volatile acidity        -0.0762      0.361     -0.211      0.833      -0.784       0.631\n",
       "citric acid              0.1166      0.303      0.385      0.700      -0.477       0.710\n",
       "residual sugar           0.0343      0.008      4.206      0.000       0.018       0.050\n",
       "chlorides                0.1269      1.756      0.072      0.942      -3.315       3.569\n",
       "free sulfur dioxide      0.0190      0.003      7.146      0.000       0.014       0.024\n",
       "total sulfur dioxide    -0.0049      0.001     -4.249      0.000      -0.007      -0.003\n",
       "pH                      -0.5188      0.257     -2.020      0.043      -1.022      -0.015\n",
       "sulphates                0.0724      0.306      0.237      0.813      -0.527       0.672\n",
       "alcohol                  0.8078      0.038     21.226      0.000       0.733       0.882\n",
       "0/1                      3.9193      1.093      3.584      0.000       1.776       6.062\n",
       "1/2                      0.8776      0.024     37.136      0.000       0.831       0.924\n",
       "========================================================================================\n",
       "\"\"\""
      ]
     },
     "execution_count": 25,
     "metadata": {},
     "output_type": "execute_result"
    }
   ],
   "source": [
    "res_log = mod_log.fit()\n",
    "res_log.summary()"
   ]
  },
  {
   "cell_type": "code",
   "execution_count": 26,
   "id": "da629331",
   "metadata": {},
   "outputs": [
    {
     "name": "stderr",
     "output_type": "stream",
     "text": [
      "/Applications/anaconda/anaconda3/lib/python3.8/site-packages/statsmodels/miscmodels/ordinal_model.py:419: FutureWarning: Support for multi-dimensional indexing (e.g. `obj[:, None]`) is deprecated and will be removed in a future version.  Convert to a numpy array before indexing instead.\n",
      "  xb = xb[:, None]\n"
     ]
    }
   ],
   "source": [
    "predicted = res_log.model.predict(res_log.params, exog=X_test)"
   ]
  },
  {
   "cell_type": "code",
   "execution_count": 27,
   "id": "81ed939d",
   "metadata": {},
   "outputs": [],
   "source": [
    "predictions=pd.DataFrame(predicted)"
   ]
  },
  {
   "cell_type": "code",
   "execution_count": 28,
   "id": "571f4862",
   "metadata": {},
   "outputs": [
    {
     "data": {
      "text/html": [
       "<div>\n",
       "<style scoped>\n",
       "    .dataframe tbody tr th:only-of-type {\n",
       "        vertical-align: middle;\n",
       "    }\n",
       "\n",
       "    .dataframe tbody tr th {\n",
       "        vertical-align: top;\n",
       "    }\n",
       "\n",
       "    .dataframe thead th {\n",
       "        text-align: right;\n",
       "    }\n",
       "</style>\n",
       "<table border=\"1\" class=\"dataframe\">\n",
       "  <thead>\n",
       "    <tr style=\"text-align: right;\">\n",
       "      <th></th>\n",
       "      <th>0</th>\n",
       "      <th>1</th>\n",
       "      <th>2</th>\n",
       "    </tr>\n",
       "  </thead>\n",
       "  <tbody>\n",
       "    <tr>\n",
       "      <th>0</th>\n",
       "      <td>0.068721</td>\n",
       "      <td>0.381080</td>\n",
       "      <td>0.550199</td>\n",
       "    </tr>\n",
       "    <tr>\n",
       "      <th>1</th>\n",
       "      <td>0.246138</td>\n",
       "      <td>0.537282</td>\n",
       "      <td>0.216580</td>\n",
       "    </tr>\n",
       "    <tr>\n",
       "      <th>2</th>\n",
       "      <td>0.825212</td>\n",
       "      <td>0.156028</td>\n",
       "      <td>0.018760</td>\n",
       "    </tr>\n",
       "    <tr>\n",
       "      <th>3</th>\n",
       "      <td>0.316392</td>\n",
       "      <td>0.520410</td>\n",
       "      <td>0.163197</td>\n",
       "    </tr>\n",
       "    <tr>\n",
       "      <th>4</th>\n",
       "      <td>0.195399</td>\n",
       "      <td>0.533635</td>\n",
       "      <td>0.270967</td>\n",
       "    </tr>\n",
       "    <tr>\n",
       "      <th>...</th>\n",
       "      <td>...</td>\n",
       "      <td>...</td>\n",
       "      <td>...</td>\n",
       "    </tr>\n",
       "    <tr>\n",
       "      <th>1463</th>\n",
       "      <td>0.095047</td>\n",
       "      <td>0.442760</td>\n",
       "      <td>0.462193</td>\n",
       "    </tr>\n",
       "    <tr>\n",
       "      <th>1464</th>\n",
       "      <td>0.421489</td>\n",
       "      <td>0.468278</td>\n",
       "      <td>0.110233</td>\n",
       "    </tr>\n",
       "    <tr>\n",
       "      <th>1465</th>\n",
       "      <td>0.234608</td>\n",
       "      <td>0.537905</td>\n",
       "      <td>0.227487</td>\n",
       "    </tr>\n",
       "    <tr>\n",
       "      <th>1466</th>\n",
       "      <td>0.218252</td>\n",
       "      <td>0.537429</td>\n",
       "      <td>0.244318</td>\n",
       "    </tr>\n",
       "    <tr>\n",
       "      <th>1467</th>\n",
       "      <td>0.195946</td>\n",
       "      <td>0.533774</td>\n",
       "      <td>0.270281</td>\n",
       "    </tr>\n",
       "  </tbody>\n",
       "</table>\n",
       "<p>1468 rows × 3 columns</p>\n",
       "</div>"
      ],
      "text/plain": [
       "             0         1         2\n",
       "0     0.068721  0.381080  0.550199\n",
       "1     0.246138  0.537282  0.216580\n",
       "2     0.825212  0.156028  0.018760\n",
       "3     0.316392  0.520410  0.163197\n",
       "4     0.195399  0.533635  0.270967\n",
       "...        ...       ...       ...\n",
       "1463  0.095047  0.442760  0.462193\n",
       "1464  0.421489  0.468278  0.110233\n",
       "1465  0.234608  0.537905  0.227487\n",
       "1466  0.218252  0.537429  0.244318\n",
       "1467  0.195946  0.533774  0.270281\n",
       "\n",
       "[1468 rows x 3 columns]"
      ]
     },
     "execution_count": 28,
     "metadata": {},
     "output_type": "execute_result"
    }
   ],
   "source": [
    "predictions"
   ]
  },
  {
   "cell_type": "code",
   "execution_count": 29,
   "id": "0265ef9a",
   "metadata": {},
   "outputs": [],
   "source": [
    "pred=predictions.idxmax(axis=1)"
   ]
  },
  {
   "cell_type": "code",
   "execution_count": 30,
   "id": "3d8a719a",
   "metadata": {},
   "outputs": [],
   "source": [
    "pred=pred.to_frame().rename(columns={0: 'Parallel_pred'})"
   ]
  },
  {
   "cell_type": "code",
   "execution_count": 31,
   "id": "35d9e194",
   "metadata": {},
   "outputs": [],
   "source": [
    "df_pred=df_pred.reset_index()"
   ]
  },
  {
   "cell_type": "code",
   "execution_count": 32,
   "id": "4fc8192c",
   "metadata": {},
   "outputs": [],
   "source": [
    "df_pred=pd.merge(df_pred,pred,left_index=True, right_index=True)"
   ]
  },
  {
   "cell_type": "code",
   "execution_count": 33,
   "id": "bb52b893",
   "metadata": {},
   "outputs": [
    {
     "name": "stdout",
     "output_type": "stream",
     "text": [
      "[[260 189   8]\n",
      " [176 431  73]\n",
      " [ 39 184 108]]\n"
     ]
    }
   ],
   "source": [
    "cmp=confusion_matrix(df_pred['merged'],df_pred['Parallel_pred'])\n",
    "print (cmp)"
   ]
  },
  {
   "cell_type": "code",
   "execution_count": 34,
   "id": "f9d324e1",
   "metadata": {},
   "outputs": [
    {
     "data": {
      "image/png": "[encoded data removed]",
      "text/plain": [
       "<Figure size 432x288 with 2 Axes>"
      ]
     },
     "metadata": {
      "needs_background": "light"
     },
     "output_type": "display_data"
    }
   ],
   "source": [
    "sn.heatmap(cmp,annot=True)\n",
    "plt.xlabel('prediction')\n",
    "plt.ylabel('True values')\n",
    "plt.title('confusion matrix parallel model')\n",
    "plt.show()"
   ]
  },
  {
   "cell_type": "markdown",
   "id": "1f4179b8",
   "metadata": {},
   "source": [
    "Parallel model accuracy"
   ]
  },
  {
   "cell_type": "code",
   "execution_count": 35,
   "id": "2b4dff5f",
   "metadata": {},
   "outputs": [
    {
     "data": {
      "text/plain": [
       "0.5442779291553134"
      ]
     },
     "execution_count": 35,
     "metadata": {},
     "output_type": "execute_result"
    }
   ],
   "source": [
    "(260+431+108)/1468"
   ]
  },
  {
   "cell_type": "code",
   "execution_count": 36,
   "id": "1541ebfd",
   "metadata": {},
   "outputs": [
    {
     "name": "stdout",
     "output_type": "stream",
     "text": [
      "[[236 218   3]\n",
      " [117 517  46]\n",
      " [ 14 231  86]]\n"
     ]
    }
   ],
   "source": [
    "cmnp=confusion_matrix(df_pred['merged'],df_pred['final_predictions'])\n",
    "print (cmnp)"
   ]
  },
  {
   "cell_type": "code",
   "execution_count": 37,
   "id": "f24556c0",
   "metadata": {},
   "outputs": [
    {
     "data": {
      "image/png": "[encoded data removed]",
      "text/plain": [
       "<Figure size 432x288 with 2 Axes>"
      ]
     },
     "metadata": {
      "needs_background": "light"
     },
     "output_type": "display_data"
    }
   ],
   "source": [
    "sn.heatmap(cmnp,annot=True)\n",
    "plt.xlabel('prediction')\n",
    "plt.ylabel('True values')\n",
    "plt.title('confusion matrix non parallel model')\n",
    "plt.show()"
   ]
  },
  {
   "cell_type": "markdown",
   "id": "4f91e094",
   "metadata": {},
   "source": [
    "Non parallel model accuracy"
   ]
  },
  {
   "cell_type": "code",
   "execution_count": 38,
   "id": "ca11c21a",
   "metadata": {},
   "outputs": [
    {
     "data": {
      "text/plain": [
       "0.5715258855585831"
      ]
     },
     "execution_count": 38,
     "metadata": {},
     "output_type": "execute_result"
    }
   ],
   "source": [
    "(236+517+86)/1468"
   ]
  },
  {
   "cell_type": "markdown",
   "id": "99a1c48b",
   "metadata": {},
   "source": [
    "Accuracy is quite similar, but as expected the accuracy of the non parallel model is better, additionally we can notice that there is a higher percentage of data in the parallel model that are strongly wrong "
   ]
  },
  {
   "cell_type": "markdown",
   "id": "8d6d5731",
   "metadata": {},
   "source": [
    "Anyway we can observe that both the models tend to predict more values as 1 because in an ordered model is better not to predict wrongly 1 instead of 3 and viceversa"
   ]
  },
  {
   "cell_type": "markdown",
   "id": "5cafdc04",
   "metadata": {},
   "source": [
    "### multinomial logistic regression"
   ]
  },
  {
   "cell_type": "code",
   "execution_count": 67,
   "id": "1e07f72a",
   "metadata": {},
   "outputs": [],
   "source": [
    "multilog = LogisticRegression(multi_class='multinomial', solver='lbfgs',max_iter=1000)"
   ]
  },
  {
   "cell_type": "code",
   "execution_count": 68,
   "id": "28a7b409",
   "metadata": {},
   "outputs": [],
   "source": [
    "Y=df['merged']"
   ]
  },
  {
   "cell_type": "code",
   "execution_count": 69,
   "id": "c6d81769",
   "metadata": {},
   "outputs": [],
   "source": [
    "X_train, X_test, Y_train, Y_test = train_test_split(X, Y, train_size=0.70, random_state=1)"
   ]
  },
  {
   "cell_type": "code",
   "execution_count": 70,
   "id": "92a06e4f",
   "metadata": {},
   "outputs": [
    {
     "data": {
      "text/plain": [
       "LogisticRegression(max_iter=1000, multi_class='multinomial')"
      ]
     },
     "execution_count": 70,
     "metadata": {},
     "output_type": "execute_result"
    }
   ],
   "source": [
    "multilog.fit(X_train,Y_train)"
   ]
  },
  {
   "cell_type": "code",
   "execution_count": 71,
   "id": "94057c3a",
   "metadata": {},
   "outputs": [],
   "source": [
    "predictions=multilog.predict(X_test)"
   ]
  },
  {
   "cell_type": "code",
   "execution_count": 44,
   "id": "ed957d90",
   "metadata": {},
   "outputs": [
    {
     "name": "stdout",
     "output_type": "stream",
     "text": [
      "[[275 175   7]\n",
      " [140 489  51]\n",
      " [ 19 234  78]]\n"
     ]
    }
   ],
   "source": [
    "cmm=confusion_matrix(Y_test,predictions)\n",
    "print (cmm)"
   ]
  },
  {
   "cell_type": "code",
   "execution_count": 45,
   "id": "d06331cc",
   "metadata": {},
   "outputs": [
    {
     "data": {
      "image/png": "[encoded data removed]",
      "text/plain": [
       "<Figure size 432x288 with 2 Axes>"
      ]
     },
     "metadata": {
      "needs_background": "light"
     },
     "output_type": "display_data"
    }
   ],
   "source": [
    "sn.heatmap(cmm,annot=True)\n",
    "plt.xlabel('prediction')\n",
    "plt.ylabel('True values')\n",
    "plt.title('confusion matrix multinomial logistic regression')\n",
    "plt.show()"
   ]
  },
  {
   "cell_type": "markdown",
   "id": "d0f5f14d",
   "metadata": {},
   "source": [
    "Accuracy of this model"
   ]
  },
  {
   "cell_type": "code",
   "execution_count": 46,
   "id": "3e5d4b0a",
   "metadata": {},
   "outputs": [
    {
     "data": {
      "text/plain": [
       "0.5735694822888283"
      ]
     },
     "execution_count": 46,
     "metadata": {},
     "output_type": "execute_result"
    }
   ],
   "source": [
    "(275+489+78)/1468"
   ]
  },
  {
   "cell_type": "markdown",
   "id": "1109c213",
   "metadata": {},
   "source": [
    "As we can notice the accuracy is also higher than the other accuracy, but this is not the unique parameter to evaluate the model in our case in fact in an ordered model is also important to see how are the errors, while in a multinomial regression the unique aim is to predict the right class."
   ]
  },
  {
   "cell_type": "code",
   "execution_count": 47,
   "id": "34e0709b",
   "metadata": {},
   "outputs": [
    {
     "data": {
      "image/png": "[encoded data removed]",
      "text/plain": [
       "<Figure size 1152x288 with 6 Axes>"
      ]
     },
     "metadata": {
      "needs_background": "light"
     },
     "output_type": "display_data"
    }
   ],
   "source": [
    "fig,ax=plt.subplots(1,3,figsize=(16,4))\n",
    "sn.heatmap(cmm,annot=True,ax=ax[0])\n",
    "sn.heatmap(cmp,annot=True, ax=ax[1])\n",
    "sn.heatmap(cmnp,annot=True, ax=ax[2])\n",
    "ax[0].set_ylabel('True values')\n",
    "ax[0].set_xlabel('Predictions')\n",
    "ax[1].set_ylabel('True values')\n",
    "ax[1].set_xlabel('Predictions')\n",
    "ax[2].set_ylabel('True values')\n",
    "ax[2].set_xlabel('Predictions')\n",
    "ax[0].set_title('confusion matrix multinomial logistic regression',size=20)\n",
    "ax[1].set_title('confusion matrix parallel ordinal model',size=20)\n",
    "ax[2].set_title('confusion matrix non parallel ordinal model',size=20)\n",
    "plt.show()"
   ]
  },
  {
   "cell_type": "markdown",
   "id": "7d43e7a5",
   "metadata": {},
   "source": [
    "### Normalize data"
   ]
  },
  {
   "cell_type": "code",
   "execution_count": 48,
   "id": "4b54c0b6",
   "metadata": {},
   "outputs": [
    {
     "data": {
      "text/plain": [
       "array([[<AxesSubplot:title={'center':'fixed acidity'}>,\n",
       "        <AxesSubplot:title={'center':'volatile acidity'}>,\n",
       "        <AxesSubplot:title={'center':'citric acid'}>],\n",
       "       [<AxesSubplot:title={'center':'residual sugar'}>,\n",
       "        <AxesSubplot:title={'center':'chlorides'}>,\n",
       "        <AxesSubplot:title={'center':'free sulfur dioxide'}>],\n",
       "       [<AxesSubplot:title={'center':'total sulfur dioxide'}>,\n",
       "        <AxesSubplot:title={'center':'pH'}>,\n",
       "        <AxesSubplot:title={'center':'sulphates'}>],\n",
       "       [<AxesSubplot:title={'center':'alcohol'}>, <AxesSubplot:>,\n",
       "        <AxesSubplot:>]], dtype=object)"
      ]
     },
     "execution_count": 48,
     "metadata": {},
     "output_type": "execute_result"
    },
    {
     "data": {
      "image/png": "[encoded data removed]",
      "text/plain": [
       "<Figure size 1080x720 with 12 Axes>"
      ]
     },
     "metadata": {
      "needs_background": "light"
     },
     "output_type": "display_data"
    }
   ],
   "source": [
    "df[col_list].hist(figsize=(15,10))"
   ]
  },
  {
   "cell_type": "markdown",
   "id": "91bee0d3",
   "metadata": {},
   "source": [
    "The distributions are clearly not gaussians so performing a standardization has no sense, is better to perform another type of normalization:\n",
    "because we don't see very big outliers it could be interesting to do (val-min)/(max-min)\n",
    "This could assure us to have all the variables on the same size"
   ]
  },
  {
   "cell_type": "code",
   "execution_count": 49,
   "id": "bf251fcb",
   "metadata": {},
   "outputs": [],
   "source": [
    "#X=(df[col_list]-df[col_list].min())/(df[col_list].max()-df[col_list].min())\n",
    "X=(df[col_list]-df[col_list].mean())/(df[col_list].std())\n",
    "Y1=df['first']\n",
    "Y2=df['second']\n",
    "Y3=df['merged']"
   ]
  },
  {
   "cell_type": "code",
   "execution_count": 50,
   "id": "b2f93323",
   "metadata": {},
   "outputs": [],
   "source": [
    "X1_train, X1_test, Y1_train, Y1_test = train_test_split(X, Y1, train_size=0.70, random_state=1)\n",
    "X2_train, X2_test, Y2_train, Y2_test = train_test_split(X, Y2, train_size=0.70, random_state=1)\n",
    "X3_train, X3_test, Y3_train, Y3_test = train_test_split(X, Y3, train_size=0.70, random_state=1)"
   ]
  },
  {
   "cell_type": "markdown",
   "id": "76480003",
   "metadata": {},
   "source": [
    "### multinomial"
   ]
  },
  {
   "cell_type": "code",
   "execution_count": 51,
   "id": "6b59c6a6",
   "metadata": {},
   "outputs": [
    {
     "name": "stdout",
     "output_type": "stream",
     "text": [
      "[[273 179   5]\n",
      " [140 469  71]\n",
      " [ 19 196 116]]\n"
     ]
    }
   ],
   "source": [
    "multilog = LogisticRegression(multi_class='multinomial', solver='lbfgs',max_iter=1000)\n",
    "multilog.fit(X3_train,Y3_train)\n",
    "predictions=multilog.predict(X3_test)\n",
    "cm=confusion_matrix(Y3_test,predictions)\n",
    "print (cm)"
   ]
  },
  {
   "cell_type": "code",
   "execution_count": 52,
   "id": "25c4b86b",
   "metadata": {},
   "outputs": [
    {
     "data": {
      "text/plain": [
       "0.5844686648501363"
      ]
     },
     "execution_count": 52,
     "metadata": {},
     "output_type": "execute_result"
    }
   ],
   "source": [
    "(cm.diagonal().sum())/1468"
   ]
  },
  {
   "cell_type": "markdown",
   "id": "00c98564",
   "metadata": {},
   "source": [
    "### non parallel"
   ]
  },
  {
   "cell_type": "code",
   "execution_count": 53,
   "id": "d13f94f8",
   "metadata": {},
   "outputs": [
    {
     "name": "stdout",
     "output_type": "stream",
     "text": [
      "[[238 219]\n",
      " [128 883]]\n"
     ]
    }
   ],
   "source": [
    "log1=LogisticRegression(max_iter=450)\n",
    "log1.fit(X1_train,Y1_train)\n",
    "predictions=log1.predict(X1_test)\n",
    "cm=confusion_matrix(Y1_test,predictions)\n",
    "print (cm)"
   ]
  },
  {
   "cell_type": "code",
   "execution_count": 54,
   "id": "4dc72110",
   "metadata": {},
   "outputs": [],
   "source": [
    "df_pred=X_test\n",
    "df_pred['Y>0 true']=Y1_test\n",
    "df_pred['Y>0 predicted']=predictions"
   ]
  },
  {
   "cell_type": "code",
   "execution_count": 55,
   "id": "f0df455a",
   "metadata": {},
   "outputs": [
    {
     "name": "stdout",
     "output_type": "stream",
     "text": [
      "[[1082   55]\n",
      " [ 247   84]]\n"
     ]
    }
   ],
   "source": [
    "log2=LogisticRegression(max_iter=1000)\n",
    "log2.fit(X2_train,Y2_train)\n",
    "predictions=log2.predict(X2_test)\n",
    "cm=confusion_matrix(Y2_test,predictions)\n",
    "print (cm)"
   ]
  },
  {
   "cell_type": "code",
   "execution_count": 56,
   "id": "6d5456fc",
   "metadata": {},
   "outputs": [],
   "source": [
    "df_pred['Y>1 true']=Y2_test\n",
    "df_pred['Y>1 predicted']=predictions"
   ]
  },
  {
   "cell_type": "code",
   "execution_count": 57,
   "id": "dec7694f",
   "metadata": {},
   "outputs": [
    {
     "data": {
      "text/html": [
       "<div>\n",
       "<style scoped>\n",
       "    .dataframe tbody tr th:only-of-type {\n",
       "        vertical-align: middle;\n",
       "    }\n",
       "\n",
       "    .dataframe tbody tr th {\n",
       "        vertical-align: top;\n",
       "    }\n",
       "\n",
       "    .dataframe thead th {\n",
       "        text-align: right;\n",
       "    }\n",
       "</style>\n",
       "<table border=\"1\" class=\"dataframe\">\n",
       "  <thead>\n",
       "    <tr style=\"text-align: right;\">\n",
       "      <th></th>\n",
       "      <th>fixed acidity</th>\n",
       "      <th>volatile acidity</th>\n",
       "      <th>citric acid</th>\n",
       "      <th>residual sugar</th>\n",
       "      <th>chlorides</th>\n",
       "      <th>free sulfur dioxide</th>\n",
       "      <th>total sulfur dioxide</th>\n",
       "      <th>pH</th>\n",
       "      <th>sulphates</th>\n",
       "      <th>alcohol</th>\n",
       "      <th>Y&gt;0 true</th>\n",
       "      <th>Y&gt;0 predicted</th>\n",
       "      <th>Y&gt;1 true</th>\n",
       "      <th>Y&gt;1 predicted</th>\n",
       "    </tr>\n",
       "  </thead>\n",
       "  <tbody>\n",
       "  </tbody>\n",
       "</table>\n",
       "</div>"
      ],
      "text/plain": [
       "Empty DataFrame\n",
       "Columns: [fixed acidity, volatile acidity, citric acid, residual sugar, chlorides, free sulfur dioxide, total sulfur dioxide, pH, sulphates, alcohol, Y>0 true, Y>0 predicted, Y>1 true, Y>1 predicted]\n",
       "Index: []"
      ]
     },
     "execution_count": 57,
     "metadata": {},
     "output_type": "execute_result"
    }
   ],
   "source": [
    "df_pred[(df_pred['Y>0 predicted']==0) & (df_pred['Y>1 predicted']==1)]"
   ]
  },
  {
   "cell_type": "code",
   "execution_count": 58,
   "id": "f86360ab",
   "metadata": {},
   "outputs": [
    {
     "data": {
      "text/html": [
       "<div>\n",
       "<style scoped>\n",
       "    .dataframe tbody tr th:only-of-type {\n",
       "        vertical-align: middle;\n",
       "    }\n",
       "\n",
       "    .dataframe tbody tr th {\n",
       "        vertical-align: top;\n",
       "    }\n",
       "\n",
       "    .dataframe thead th {\n",
       "        text-align: right;\n",
       "    }\n",
       "</style>\n",
       "<table border=\"1\" class=\"dataframe\">\n",
       "  <thead>\n",
       "    <tr style=\"text-align: right;\">\n",
       "      <th></th>\n",
       "      <th>fixed acidity</th>\n",
       "      <th>volatile acidity</th>\n",
       "      <th>citric acid</th>\n",
       "      <th>residual sugar</th>\n",
       "      <th>chlorides</th>\n",
       "      <th>free sulfur dioxide</th>\n",
       "      <th>total sulfur dioxide</th>\n",
       "      <th>pH</th>\n",
       "      <th>sulphates</th>\n",
       "      <th>alcohol</th>\n",
       "      <th>Y&gt;0 true</th>\n",
       "      <th>Y&gt;0 predicted</th>\n",
       "      <th>Y&gt;1 true</th>\n",
       "      <th>Y&gt;1 predicted</th>\n",
       "      <th>final_predictions</th>\n",
       "      <th>merged</th>\n",
       "    </tr>\n",
       "  </thead>\n",
       "  <tbody>\n",
       "    <tr>\n",
       "      <th>2975</th>\n",
       "      <td>6.1</td>\n",
       "      <td>0.38</td>\n",
       "      <td>0.42</td>\n",
       "      <td>5.0</td>\n",
       "      <td>0.016</td>\n",
       "      <td>31.0</td>\n",
       "      <td>113.0</td>\n",
       "      <td>3.15</td>\n",
       "      <td>0.31</td>\n",
       "      <td>12.400000</td>\n",
       "      <td>1</td>\n",
       "      <td>1</td>\n",
       "      <td>1</td>\n",
       "      <td>0</td>\n",
       "      <td>1</td>\n",
       "      <td>2</td>\n",
       "    </tr>\n",
       "    <tr>\n",
       "      <th>219</th>\n",
       "      <td>7.5</td>\n",
       "      <td>0.23</td>\n",
       "      <td>0.36</td>\n",
       "      <td>7.0</td>\n",
       "      <td>0.036</td>\n",
       "      <td>43.0</td>\n",
       "      <td>161.0</td>\n",
       "      <td>3.04</td>\n",
       "      <td>0.32</td>\n",
       "      <td>11.000000</td>\n",
       "      <td>0</td>\n",
       "      <td>1</td>\n",
       "      <td>0</td>\n",
       "      <td>0</td>\n",
       "      <td>1</td>\n",
       "      <td>0</td>\n",
       "    </tr>\n",
       "    <tr>\n",
       "      <th>2046</th>\n",
       "      <td>11.8</td>\n",
       "      <td>0.23</td>\n",
       "      <td>0.38</td>\n",
       "      <td>11.1</td>\n",
       "      <td>0.034</td>\n",
       "      <td>15.0</td>\n",
       "      <td>123.0</td>\n",
       "      <td>2.93</td>\n",
       "      <td>0.55</td>\n",
       "      <td>9.700000</td>\n",
       "      <td>0</td>\n",
       "      <td>0</td>\n",
       "      <td>0</td>\n",
       "      <td>0</td>\n",
       "      <td>0</td>\n",
       "      <td>0</td>\n",
       "    </tr>\n",
       "    <tr>\n",
       "      <th>2739</th>\n",
       "      <td>6.7</td>\n",
       "      <td>0.27</td>\n",
       "      <td>0.33</td>\n",
       "      <td>3.6</td>\n",
       "      <td>0.034</td>\n",
       "      <td>9.0</td>\n",
       "      <td>45.0</td>\n",
       "      <td>3.08</td>\n",
       "      <td>0.40</td>\n",
       "      <td>10.500000</td>\n",
       "      <td>1</td>\n",
       "      <td>1</td>\n",
       "      <td>0</td>\n",
       "      <td>0</td>\n",
       "      <td>1</td>\n",
       "      <td>1</td>\n",
       "    </tr>\n",
       "    <tr>\n",
       "      <th>3015</th>\n",
       "      <td>8.4</td>\n",
       "      <td>0.32</td>\n",
       "      <td>0.35</td>\n",
       "      <td>11.7</td>\n",
       "      <td>0.029</td>\n",
       "      <td>3.0</td>\n",
       "      <td>46.0</td>\n",
       "      <td>3.02</td>\n",
       "      <td>0.34</td>\n",
       "      <td>11.800000</td>\n",
       "      <td>1</td>\n",
       "      <td>1</td>\n",
       "      <td>0</td>\n",
       "      <td>0</td>\n",
       "      <td>1</td>\n",
       "      <td>1</td>\n",
       "    </tr>\n",
       "    <tr>\n",
       "      <th>...</th>\n",
       "      <td>...</td>\n",
       "      <td>...</td>\n",
       "      <td>...</td>\n",
       "      <td>...</td>\n",
       "      <td>...</td>\n",
       "      <td>...</td>\n",
       "      <td>...</td>\n",
       "      <td>...</td>\n",
       "      <td>...</td>\n",
       "      <td>...</td>\n",
       "      <td>...</td>\n",
       "      <td>...</td>\n",
       "      <td>...</td>\n",
       "      <td>...</td>\n",
       "      <td>...</td>\n",
       "      <td>...</td>\n",
       "    </tr>\n",
       "    <tr>\n",
       "      <th>4632</th>\n",
       "      <td>6.0</td>\n",
       "      <td>0.24</td>\n",
       "      <td>0.41</td>\n",
       "      <td>1.3</td>\n",
       "      <td>0.036</td>\n",
       "      <td>42.0</td>\n",
       "      <td>118.0</td>\n",
       "      <td>3.04</td>\n",
       "      <td>0.64</td>\n",
       "      <td>11.733333</td>\n",
       "      <td>1</td>\n",
       "      <td>1</td>\n",
       "      <td>0</td>\n",
       "      <td>0</td>\n",
       "      <td>1</td>\n",
       "      <td>1</td>\n",
       "    </tr>\n",
       "    <tr>\n",
       "      <th>3393</th>\n",
       "      <td>6.1</td>\n",
       "      <td>0.33</td>\n",
       "      <td>0.32</td>\n",
       "      <td>7.8</td>\n",
       "      <td>0.052</td>\n",
       "      <td>52.0</td>\n",
       "      <td>183.0</td>\n",
       "      <td>3.39</td>\n",
       "      <td>0.65</td>\n",
       "      <td>9.500000</td>\n",
       "      <td>0</td>\n",
       "      <td>1</td>\n",
       "      <td>0</td>\n",
       "      <td>0</td>\n",
       "      <td>1</td>\n",
       "      <td>0</td>\n",
       "    </tr>\n",
       "    <tr>\n",
       "      <th>4708</th>\n",
       "      <td>6.4</td>\n",
       "      <td>0.28</td>\n",
       "      <td>0.28</td>\n",
       "      <td>3.0</td>\n",
       "      <td>0.040</td>\n",
       "      <td>19.0</td>\n",
       "      <td>98.0</td>\n",
       "      <td>3.25</td>\n",
       "      <td>0.47</td>\n",
       "      <td>11.100000</td>\n",
       "      <td>1</td>\n",
       "      <td>1</td>\n",
       "      <td>0</td>\n",
       "      <td>0</td>\n",
       "      <td>1</td>\n",
       "      <td>1</td>\n",
       "    </tr>\n",
       "    <tr>\n",
       "      <th>3323</th>\n",
       "      <td>6.4</td>\n",
       "      <td>0.24</td>\n",
       "      <td>0.29</td>\n",
       "      <td>1.0</td>\n",
       "      <td>0.038</td>\n",
       "      <td>18.0</td>\n",
       "      <td>122.0</td>\n",
       "      <td>3.30</td>\n",
       "      <td>0.42</td>\n",
       "      <td>11.500000</td>\n",
       "      <td>0</td>\n",
       "      <td>1</td>\n",
       "      <td>0</td>\n",
       "      <td>0</td>\n",
       "      <td>1</td>\n",
       "      <td>0</td>\n",
       "    </tr>\n",
       "    <tr>\n",
       "      <th>4736</th>\n",
       "      <td>6.1</td>\n",
       "      <td>0.27</td>\n",
       "      <td>0.31</td>\n",
       "      <td>3.9</td>\n",
       "      <td>0.034</td>\n",
       "      <td>42.0</td>\n",
       "      <td>137.0</td>\n",
       "      <td>3.24</td>\n",
       "      <td>0.46</td>\n",
       "      <td>10.900000</td>\n",
       "      <td>1</td>\n",
       "      <td>1</td>\n",
       "      <td>0</td>\n",
       "      <td>0</td>\n",
       "      <td>1</td>\n",
       "      <td>1</td>\n",
       "    </tr>\n",
       "  </tbody>\n",
       "</table>\n",
       "<p>1468 rows × 16 columns</p>\n",
       "</div>"
      ],
      "text/plain": [
       "      fixed acidity  volatile acidity  citric acid  residual sugar  chlorides  \\\n",
       "2975            6.1              0.38         0.42             5.0      0.016   \n",
       "219             7.5              0.23         0.36             7.0      0.036   \n",
       "2046           11.8              0.23         0.38            11.1      0.034   \n",
       "2739            6.7              0.27         0.33             3.6      0.034   \n",
       "3015            8.4              0.32         0.35            11.7      0.029   \n",
       "...             ...               ...          ...             ...        ...   \n",
       "4632            6.0              0.24         0.41             1.3      0.036   \n",
       "3393            6.1              0.33         0.32             7.8      0.052   \n",
       "4708            6.4              0.28         0.28             3.0      0.040   \n",
       "3323            6.4              0.24         0.29             1.0      0.038   \n",
       "4736            6.1              0.27         0.31             3.9      0.034   \n",
       "\n",
       "      free sulfur dioxide  total sulfur dioxide    pH  sulphates    alcohol  \\\n",
       "2975                 31.0                 113.0  3.15       0.31  12.400000   \n",
       "219                  43.0                 161.0  3.04       0.32  11.000000   \n",
       "2046                 15.0                 123.0  2.93       0.55   9.700000   \n",
       "2739                  9.0                  45.0  3.08       0.40  10.500000   \n",
       "3015                  3.0                  46.0  3.02       0.34  11.800000   \n",
       "...                   ...                   ...   ...        ...        ...   \n",
       "4632                 42.0                 118.0  3.04       0.64  11.733333   \n",
       "3393                 52.0                 183.0  3.39       0.65   9.500000   \n",
       "4708                 19.0                  98.0  3.25       0.47  11.100000   \n",
       "3323                 18.0                 122.0  3.30       0.42  11.500000   \n",
       "4736                 42.0                 137.0  3.24       0.46  10.900000   \n",
       "\n",
       "      Y>0 true  Y>0 predicted  Y>1 true  Y>1 predicted  final_predictions  \\\n",
       "2975         1              1         1              0                  1   \n",
       "219          0              1         0              0                  1   \n",
       "2046         0              0         0              0                  0   \n",
       "2739         1              1         0              0                  1   \n",
       "3015         1              1         0              0                  1   \n",
       "...        ...            ...       ...            ...                ...   \n",
       "4632         1              1         0              0                  1   \n",
       "3393         0              1         0              0                  1   \n",
       "4708         1              1         0              0                  1   \n",
       "3323         0              1         0              0                  1   \n",
       "4736         1              1         0              0                  1   \n",
       "\n",
       "      merged  \n",
       "2975       2  \n",
       "219        0  \n",
       "2046       0  \n",
       "2739       1  \n",
       "3015       1  \n",
       "...      ...  \n",
       "4632       1  \n",
       "3393       0  \n",
       "4708       1  \n",
       "3323       0  \n",
       "4736       1  \n",
       "\n",
       "[1468 rows x 16 columns]"
      ]
     },
     "execution_count": 58,
     "metadata": {},
     "output_type": "execute_result"
    }
   ],
   "source": [
    "df_pred['final_predictions']=(df_pred['Y>0 predicted']==1).astype(int)+(df_pred['Y>1 predicted']==1).astype(int)\n",
    "true_val=df['merged']\n",
    "df_pred=pd.merge(df_pred,true_val,left_index=True, right_index=True)\n",
    "df_pred"
   ]
  },
  {
   "cell_type": "code",
   "execution_count": 59,
   "id": "ab4b4112",
   "metadata": {},
   "outputs": [
    {
     "name": "stdout",
     "output_type": "stream",
     "text": [
      "[[238 217   2]\n",
      " [117 510  53]\n",
      " [ 11 236  84]]\n"
     ]
    }
   ],
   "source": [
    "cm=confusion_matrix(df_pred['merged'],df_pred['final_predictions'])\n",
    "print (cm)"
   ]
  },
  {
   "cell_type": "code",
   "execution_count": 60,
   "id": "56222c60",
   "metadata": {
    "scrolled": true
   },
   "outputs": [
    {
     "data": {
      "text/plain": [
       "0.5667574931880109"
      ]
     },
     "execution_count": 60,
     "metadata": {},
     "output_type": "execute_result"
    }
   ],
   "source": [
    "(cm.diagonal().sum())/1468"
   ]
  },
  {
   "cell_type": "markdown",
   "id": "fbf38cbf",
   "metadata": {},
   "source": [
    "### parallel model"
   ]
  },
  {
   "cell_type": "code",
   "execution_count": 61,
   "id": "0edcb37a",
   "metadata": {},
   "outputs": [
    {
     "name": "stdout",
     "output_type": "stream",
     "text": [
      "Warning: Maximum number of iterations has been exceeded.\n",
      "[[238 213   6]\n",
      " [131 494  55]\n",
      " [ 29 218  84]]\n"
     ]
    },
    {
     "name": "stderr",
     "output_type": "stream",
     "text": [
      "/Applications/anaconda/anaconda3/lib/python3.8/site-packages/statsmodels/base/model.py:566: ConvergenceWarning: Maximum Likelihood optimization failed to converge. Check mle_retvals\n",
      "  warnings.warn(\"Maximum Likelihood optimization failed to \"\n",
      "/Applications/anaconda/anaconda3/lib/python3.8/site-packages/statsmodels/miscmodels/ordinal_model.py:419: FutureWarning: Support for multi-dimensional indexing (e.g. `obj[:, None]`) is deprecated and will be removed in a future version.  Convert to a numpy array before indexing instead.\n",
      "  xb = xb[:, None]\n"
     ]
    }
   ],
   "source": [
    "mod_log = OrderedModel(Y3_train,X3_train,distr='logit')\n",
    "res_log = mod_log.fit()\n",
    "predicted = res_log.model.predict(res_log.params, exog=X3_test)\n",
    "predictions=pd.DataFrame(predicted)\n",
    "pred=predictions.idxmax(axis=1).to_frame().rename(columns={0: 'Parallel_pred'})\n",
    "df_pred=pd.merge(df_pred.reset_index(),pred,left_index=True, right_index=True)\n",
    "cm=confusion_matrix(df_pred['merged'],df_pred['Parallel_pred'])\n",
    "print (cm)"
   ]
  },
  {
   "cell_type": "code",
   "execution_count": 62,
   "id": "04c71a64",
   "metadata": {},
   "outputs": [
    {
     "data": {
      "text/plain": [
       "0.555858310626703"
      ]
     },
     "execution_count": 62,
     "metadata": {},
     "output_type": "execute_result"
    }
   ],
   "source": [
    "cm.diagonal().sum()/1468"
   ]
  },
  {
   "cell_type": "markdown",
   "id": "a7221906",
   "metadata": {},
   "source": [
    "in both the cases the standirdization is not working properly"
   ]
  },
  {
   "cell_type": "markdown",
   "id": "5f5d01b6",
   "metadata": {},
   "source": [
    "Compute the MAE"
   ]
  },
  {
   "cell_type": "code",
   "execution_count": 64,
   "id": "d2db020e",
   "metadata": {},
   "outputs": [
    {
     "data": {
      "text/html": [
       "<div>\n",
       "<style scoped>\n",
       "    .dataframe tbody tr th:only-of-type {\n",
       "        vertical-align: middle;\n",
       "    }\n",
       "\n",
       "    .dataframe tbody tr th {\n",
       "        vertical-align: top;\n",
       "    }\n",
       "\n",
       "    .dataframe thead th {\n",
       "        text-align: right;\n",
       "    }\n",
       "</style>\n",
       "<table border=\"1\" class=\"dataframe\">\n",
       "  <thead>\n",
       "    <tr style=\"text-align: right;\">\n",
       "      <th></th>\n",
       "      <th>index</th>\n",
       "      <th>fixed acidity</th>\n",
       "      <th>volatile acidity</th>\n",
       "      <th>citric acid</th>\n",
       "      <th>residual sugar</th>\n",
       "      <th>chlorides</th>\n",
       "      <th>free sulfur dioxide</th>\n",
       "      <th>total sulfur dioxide</th>\n",
       "      <th>pH</th>\n",
       "      <th>sulphates</th>\n",
       "      <th>alcohol</th>\n",
       "      <th>Y&gt;0 true</th>\n",
       "      <th>Y&gt;0 predicted</th>\n",
       "      <th>Y&gt;1 true</th>\n",
       "      <th>Y&gt;1 predicted</th>\n",
       "      <th>final_predictions</th>\n",
       "      <th>merged</th>\n",
       "      <th>Parallel_pred</th>\n",
       "    </tr>\n",
       "  </thead>\n",
       "  <tbody>\n",
       "    <tr>\n",
       "      <th>0</th>\n",
       "      <td>2975</td>\n",
       "      <td>6.1</td>\n",
       "      <td>0.38</td>\n",
       "      <td>0.42</td>\n",
       "      <td>5.0</td>\n",
       "      <td>0.016</td>\n",
       "      <td>31.0</td>\n",
       "      <td>113.0</td>\n",
       "      <td>3.15</td>\n",
       "      <td>0.31</td>\n",
       "      <td>12.400000</td>\n",
       "      <td>1</td>\n",
       "      <td>1</td>\n",
       "      <td>1</td>\n",
       "      <td>0</td>\n",
       "      <td>1</td>\n",
       "      <td>2</td>\n",
       "      <td>1</td>\n",
       "    </tr>\n",
       "    <tr>\n",
       "      <th>1</th>\n",
       "      <td>219</td>\n",
       "      <td>7.5</td>\n",
       "      <td>0.23</td>\n",
       "      <td>0.36</td>\n",
       "      <td>7.0</td>\n",
       "      <td>0.036</td>\n",
       "      <td>43.0</td>\n",
       "      <td>161.0</td>\n",
       "      <td>3.04</td>\n",
       "      <td>0.32</td>\n",
       "      <td>11.000000</td>\n",
       "      <td>0</td>\n",
       "      <td>1</td>\n",
       "      <td>0</td>\n",
       "      <td>0</td>\n",
       "      <td>1</td>\n",
       "      <td>0</td>\n",
       "      <td>1</td>\n",
       "    </tr>\n",
       "    <tr>\n",
       "      <th>2</th>\n",
       "      <td>2046</td>\n",
       "      <td>11.8</td>\n",
       "      <td>0.23</td>\n",
       "      <td>0.38</td>\n",
       "      <td>11.1</td>\n",
       "      <td>0.034</td>\n",
       "      <td>15.0</td>\n",
       "      <td>123.0</td>\n",
       "      <td>2.93</td>\n",
       "      <td>0.55</td>\n",
       "      <td>9.700000</td>\n",
       "      <td>0</td>\n",
       "      <td>0</td>\n",
       "      <td>0</td>\n",
       "      <td>0</td>\n",
       "      <td>0</td>\n",
       "      <td>0</td>\n",
       "      <td>0</td>\n",
       "    </tr>\n",
       "    <tr>\n",
       "      <th>3</th>\n",
       "      <td>2739</td>\n",
       "      <td>6.7</td>\n",
       "      <td>0.27</td>\n",
       "      <td>0.33</td>\n",
       "      <td>3.6</td>\n",
       "      <td>0.034</td>\n",
       "      <td>9.0</td>\n",
       "      <td>45.0</td>\n",
       "      <td>3.08</td>\n",
       "      <td>0.40</td>\n",
       "      <td>10.500000</td>\n",
       "      <td>1</td>\n",
       "      <td>1</td>\n",
       "      <td>0</td>\n",
       "      <td>0</td>\n",
       "      <td>1</td>\n",
       "      <td>1</td>\n",
       "      <td>1</td>\n",
       "    </tr>\n",
       "    <tr>\n",
       "      <th>4</th>\n",
       "      <td>3015</td>\n",
       "      <td>8.4</td>\n",
       "      <td>0.32</td>\n",
       "      <td>0.35</td>\n",
       "      <td>11.7</td>\n",
       "      <td>0.029</td>\n",
       "      <td>3.0</td>\n",
       "      <td>46.0</td>\n",
       "      <td>3.02</td>\n",
       "      <td>0.34</td>\n",
       "      <td>11.800000</td>\n",
       "      <td>1</td>\n",
       "      <td>1</td>\n",
       "      <td>0</td>\n",
       "      <td>0</td>\n",
       "      <td>1</td>\n",
       "      <td>1</td>\n",
       "      <td>1</td>\n",
       "    </tr>\n",
       "    <tr>\n",
       "      <th>...</th>\n",
       "      <td>...</td>\n",
       "      <td>...</td>\n",
       "      <td>...</td>\n",
       "      <td>...</td>\n",
       "      <td>...</td>\n",
       "      <td>...</td>\n",
       "      <td>...</td>\n",
       "      <td>...</td>\n",
       "      <td>...</td>\n",
       "      <td>...</td>\n",
       "      <td>...</td>\n",
       "      <td>...</td>\n",
       "      <td>...</td>\n",
       "      <td>...</td>\n",
       "      <td>...</td>\n",
       "      <td>...</td>\n",
       "      <td>...</td>\n",
       "      <td>...</td>\n",
       "    </tr>\n",
       "    <tr>\n",
       "      <th>1463</th>\n",
       "      <td>4632</td>\n",
       "      <td>6.0</td>\n",
       "      <td>0.24</td>\n",
       "      <td>0.41</td>\n",
       "      <td>1.3</td>\n",
       "      <td>0.036</td>\n",
       "      <td>42.0</td>\n",
       "      <td>118.0</td>\n",
       "      <td>3.04</td>\n",
       "      <td>0.64</td>\n",
       "      <td>11.733333</td>\n",
       "      <td>1</td>\n",
       "      <td>1</td>\n",
       "      <td>0</td>\n",
       "      <td>0</td>\n",
       "      <td>1</td>\n",
       "      <td>1</td>\n",
       "      <td>2</td>\n",
       "    </tr>\n",
       "    <tr>\n",
       "      <th>1464</th>\n",
       "      <td>3393</td>\n",
       "      <td>6.1</td>\n",
       "      <td>0.33</td>\n",
       "      <td>0.32</td>\n",
       "      <td>7.8</td>\n",
       "      <td>0.052</td>\n",
       "      <td>52.0</td>\n",
       "      <td>183.0</td>\n",
       "      <td>3.39</td>\n",
       "      <td>0.65</td>\n",
       "      <td>9.500000</td>\n",
       "      <td>0</td>\n",
       "      <td>1</td>\n",
       "      <td>0</td>\n",
       "      <td>0</td>\n",
       "      <td>1</td>\n",
       "      <td>0</td>\n",
       "      <td>1</td>\n",
       "    </tr>\n",
       "    <tr>\n",
       "      <th>1465</th>\n",
       "      <td>4708</td>\n",
       "      <td>6.4</td>\n",
       "      <td>0.28</td>\n",
       "      <td>0.28</td>\n",
       "      <td>3.0</td>\n",
       "      <td>0.040</td>\n",
       "      <td>19.0</td>\n",
       "      <td>98.0</td>\n",
       "      <td>3.25</td>\n",
       "      <td>0.47</td>\n",
       "      <td>11.100000</td>\n",
       "      <td>1</td>\n",
       "      <td>1</td>\n",
       "      <td>0</td>\n",
       "      <td>0</td>\n",
       "      <td>1</td>\n",
       "      <td>1</td>\n",
       "      <td>1</td>\n",
       "    </tr>\n",
       "    <tr>\n",
       "      <th>1466</th>\n",
       "      <td>3323</td>\n",
       "      <td>6.4</td>\n",
       "      <td>0.24</td>\n",
       "      <td>0.29</td>\n",
       "      <td>1.0</td>\n",
       "      <td>0.038</td>\n",
       "      <td>18.0</td>\n",
       "      <td>122.0</td>\n",
       "      <td>3.30</td>\n",
       "      <td>0.42</td>\n",
       "      <td>11.500000</td>\n",
       "      <td>0</td>\n",
       "      <td>1</td>\n",
       "      <td>0</td>\n",
       "      <td>0</td>\n",
       "      <td>1</td>\n",
       "      <td>0</td>\n",
       "      <td>1</td>\n",
       "    </tr>\n",
       "    <tr>\n",
       "      <th>1467</th>\n",
       "      <td>4736</td>\n",
       "      <td>6.1</td>\n",
       "      <td>0.27</td>\n",
       "      <td>0.31</td>\n",
       "      <td>3.9</td>\n",
       "      <td>0.034</td>\n",
       "      <td>42.0</td>\n",
       "      <td>137.0</td>\n",
       "      <td>3.24</td>\n",
       "      <td>0.46</td>\n",
       "      <td>10.900000</td>\n",
       "      <td>1</td>\n",
       "      <td>1</td>\n",
       "      <td>0</td>\n",
       "      <td>0</td>\n",
       "      <td>1</td>\n",
       "      <td>1</td>\n",
       "      <td>1</td>\n",
       "    </tr>\n",
       "  </tbody>\n",
       "</table>\n",
       "<p>1468 rows × 18 columns</p>\n",
       "</div>"
      ],
      "text/plain": [
       "      index  fixed acidity  volatile acidity  citric acid  residual sugar  \\\n",
       "0      2975            6.1              0.38         0.42             5.0   \n",
       "1       219            7.5              0.23         0.36             7.0   \n",
       "2      2046           11.8              0.23         0.38            11.1   \n",
       "3      2739            6.7              0.27         0.33             3.6   \n",
       "4      3015            8.4              0.32         0.35            11.7   \n",
       "...     ...            ...               ...          ...             ...   \n",
       "1463   4632            6.0              0.24         0.41             1.3   \n",
       "1464   3393            6.1              0.33         0.32             7.8   \n",
       "1465   4708            6.4              0.28         0.28             3.0   \n",
       "1466   3323            6.4              0.24         0.29             1.0   \n",
       "1467   4736            6.1              0.27         0.31             3.9   \n",
       "\n",
       "      chlorides  free sulfur dioxide  total sulfur dioxide    pH  sulphates  \\\n",
       "0         0.016                 31.0                 113.0  3.15       0.31   \n",
       "1         0.036                 43.0                 161.0  3.04       0.32   \n",
       "2         0.034                 15.0                 123.0  2.93       0.55   \n",
       "3         0.034                  9.0                  45.0  3.08       0.40   \n",
       "4         0.029                  3.0                  46.0  3.02       0.34   \n",
       "...         ...                  ...                   ...   ...        ...   \n",
       "1463      0.036                 42.0                 118.0  3.04       0.64   \n",
       "1464      0.052                 52.0                 183.0  3.39       0.65   \n",
       "1465      0.040                 19.0                  98.0  3.25       0.47   \n",
       "1466      0.038                 18.0                 122.0  3.30       0.42   \n",
       "1467      0.034                 42.0                 137.0  3.24       0.46   \n",
       "\n",
       "        alcohol  Y>0 true  Y>0 predicted  Y>1 true  Y>1 predicted  \\\n",
       "0     12.400000         1              1         1              0   \n",
       "1     11.000000         0              1         0              0   \n",
       "2      9.700000         0              0         0              0   \n",
       "3     10.500000         1              1         0              0   \n",
       "4     11.800000         1              1         0              0   \n",
       "...         ...       ...            ...       ...            ...   \n",
       "1463  11.733333         1              1         0              0   \n",
       "1464   9.500000         0              1         0              0   \n",
       "1465  11.100000         1              1         0              0   \n",
       "1466  11.500000         0              1         0              0   \n",
       "1467  10.900000         1              1         0              0   \n",
       "\n",
       "      final_predictions  merged  Parallel_pred  \n",
       "0                     1       2              1  \n",
       "1                     1       0              1  \n",
       "2                     0       0              0  \n",
       "3                     1       1              1  \n",
       "4                     1       1              1  \n",
       "...                 ...     ...            ...  \n",
       "1463                  1       1              2  \n",
       "1464                  1       0              1  \n",
       "1465                  1       1              1  \n",
       "1466                  1       0              1  \n",
       "1467                  1       1              1  \n",
       "\n",
       "[1468 rows x 18 columns]"
      ]
     },
     "execution_count": 64,
     "metadata": {},
     "output_type": "execute_result"
    }
   ],
   "source": [
    "df_pred"
   ]
  },
  {
   "cell_type": "code",
   "execution_count": 72,
   "id": "478b59e5",
   "metadata": {},
   "outputs": [
    {
     "name": "stdout",
     "output_type": "stream",
     "text": [
      "0.4420980926430518\n",
      "0.46798365122615804\n",
      "0.4318801089918256\n"
     ]
    }
   ],
   "source": [
    "print(mean_absolute_error(df_pred['merged'],df_pred['final_predictions']))\n",
    "print(mean_absolute_error(df_pred['merged'],df_pred['Parallel_pred']))\n",
    "print(mean_absolute_error(Y_test,predictions))"
   ]
  }
 ],
 "metadata": {
  "kernelspec": {
   "display_name": "Python 3",
   "language": "python",
   "name": "python3"
  },
  "language_info": {
   "codemirror_mode": {
    "name": "ipython",
    "version": 3
   },
   "file_extension": ".py",
   "mimetype": "text/x-python",
   "name": "python",
   "nbconvert_exporter": "python",
   "pygments_lexer": "ipython3",
   "version": "3.8.8"
  }
 },
 "nbformat": 4,
 "nbformat_minor": 5
}
